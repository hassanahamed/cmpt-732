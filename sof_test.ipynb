{
 "cells": [
  {
   "cell_type": "code",
   "execution_count": 1,
   "metadata": {},
   "outputs": [
    {
     "name": "stderr",
     "output_type": "stream",
     "text": [
      "d:\\jupyter\\big data\\project\\spark-test\\venv_tf_1\\lib\\site-packages\\tqdm\\auto.py:22: TqdmWarning: IProgress not found. Please update jupyter and ipywidgets. See https://ipywidgets.readthedocs.io/en/stable/user_install.html\n",
      "  from .autonotebook import tqdm as notebook_tqdm\n"
     ]
    }
   ],
   "source": [
    "import torch\n",
    "import numpy as np\n",
    "import matplotlib.pyplot as plt\n",
    "import pandas as pd\n",
    "from tqdm import tqdm\n",
    "import spacy\n",
    "import numpy as np\n",
    "from sklearn.model_selection import train_test_split\n",
    "import torch\n",
    "from torch.utils.data import Dataset, DataLoader\n",
    "import torch.nn as nn\n",
    "import spacy\n",
    "import glob\n",
    "import os\n",
    "import re\n",
    "import string\n",
    "from bs4 import BeautifulSoup\n",
    "import nltk"
   ]
  },
  {
   "cell_type": "code",
   "execution_count": 2,
   "metadata": {},
   "outputs": [
    {
     "name": "stderr",
     "output_type": "stream",
     "text": [
      "[nltk_data] Downloading package stopwords to\n",
      "[nltk_data]     C:\\Users\\reddy\\AppData\\Roaming\\nltk_data...\n",
      "[nltk_data]   Package stopwords is already up-to-date!\n"
     ]
    },
    {
     "data": {
      "text/plain": [
       "True"
      ]
     },
     "execution_count": 2,
     "metadata": {},
     "output_type": "execute_result"
    }
   ],
   "source": [
    "nltk.download('stopwords')"
   ]
  },
  {
   "cell_type": "code",
   "execution_count": 3,
   "metadata": {},
   "outputs": [],
   "source": [
    "nlp = spacy.load(\"en_core_web_lg-3.4.1/en_core_web_lg/en_core_web_lg-3.4.1\")"
   ]
  },
  {
   "cell_type": "code",
   "execution_count": 4,
   "metadata": {},
   "outputs": [],
   "source": [
    "sof_false_df = pd.read_json('D:/jupyter/big data/project/model/processed_data/is-duplicate-false/is_dup_false.json', lines=True)"
   ]
  },
  {
   "cell_type": "code",
   "execution_count": 5,
   "metadata": {},
   "outputs": [],
   "source": [
    "def read(x):\n",
    "    return pd.read_json(x, lines=True)"
   ]
  },
  {
   "cell_type": "code",
   "execution_count": 6,
   "metadata": {
    "scrolled": false
   },
   "outputs": [
    {
     "data": {
      "text/html": [
       "<div>\n",
       "<style scoped>\n",
       "    .dataframe tbody tr th:only-of-type {\n",
       "        vertical-align: middle;\n",
       "    }\n",
       "\n",
       "    .dataframe tbody tr th {\n",
       "        vertical-align: top;\n",
       "    }\n",
       "\n",
       "    .dataframe thead th {\n",
       "        text-align: right;\n",
       "    }\n",
       "</style>\n",
       "<table border=\"1\" class=\"dataframe\">\n",
       "  <thead>\n",
       "    <tr style=\"text-align: right;\">\n",
       "      <th></th>\n",
       "      <th>question1</th>\n",
       "      <th>id1</th>\n",
       "      <th>row1</th>\n",
       "      <th>question2</th>\n",
       "      <th>id2</th>\n",
       "      <th>row2</th>\n",
       "      <th>is_duplicate</th>\n",
       "    </tr>\n",
       "  </thead>\n",
       "  <tbody>\n",
       "    <tr>\n",
       "      <th>0</th>\n",
       "      <td>Javascript Error thrown by AjaxToolKit in .NET...</td>\n",
       "      <td>368947.0</td>\n",
       "      <td>1.0</td>\n",
       "      <td>jQuery How do I get the div in this code?</td>\n",
       "      <td>368943.0</td>\n",
       "      <td>1.0</td>\n",
       "      <td>False</td>\n",
       "    </tr>\n",
       "    <tr>\n",
       "      <th>1</th>\n",
       "      <td>ASP.NET MVC and Paging - Search &amp; Result Scenario</td>\n",
       "      <td>368956.0</td>\n",
       "      <td>2.0</td>\n",
       "      <td>SSIS package works with windows account, fails...</td>\n",
       "      <td>368945.0</td>\n",
       "      <td>2.0</td>\n",
       "      <td>False</td>\n",
       "    </tr>\n",
       "    <tr>\n",
       "      <th>2</th>\n",
       "      <td>Repeater control to aggregate data?</td>\n",
       "      <td>369042.0</td>\n",
       "      <td>3.0</td>\n",
       "      <td>Passing a Python array to a C++ vector using Swig</td>\n",
       "      <td>368980.0</td>\n",
       "      <td>3.0</td>\n",
       "      <td>False</td>\n",
       "    </tr>\n",
       "    <tr>\n",
       "      <th>3</th>\n",
       "      <td>How difficult is it to develop an ASP.Net web ...</td>\n",
       "      <td>369064.0</td>\n",
       "      <td>4.0</td>\n",
       "      <td>PHP get rid of slashes full path</td>\n",
       "      <td>368981.0</td>\n",
       "      <td>4.0</td>\n",
       "      <td>False</td>\n",
       "    </tr>\n",
       "    <tr>\n",
       "      <th>4</th>\n",
       "      <td>iFrame causes scriptaculous dragging issues in...</td>\n",
       "      <td>369090.0</td>\n",
       "      <td>5.0</td>\n",
       "      <td>C# Sorting Datagrid column by date</td>\n",
       "      <td>368997.0</td>\n",
       "      <td>5.0</td>\n",
       "      <td>False</td>\n",
       "    </tr>\n",
       "    <tr>\n",
       "      <th>...</th>\n",
       "      <td>...</td>\n",
       "      <td>...</td>\n",
       "      <td>...</td>\n",
       "      <td>...</td>\n",
       "      <td>...</td>\n",
       "      <td>...</td>\n",
       "      <td>...</td>\n",
       "    </tr>\n",
       "    <tr>\n",
       "      <th>399202</th>\n",
       "      <td>Using Get-Job to test-connection, but quite di...</td>\n",
       "      <td>NaN</td>\n",
       "      <td>NaN</td>\n",
       "      <td>If using Test-Connection on multiple computers...</td>\n",
       "      <td>NaN</td>\n",
       "      <td>NaN</td>\n",
       "      <td>True</td>\n",
       "    </tr>\n",
       "    <tr>\n",
       "      <th>399203</th>\n",
       "      <td>Provide a list of commits to edited for reabase</td>\n",
       "      <td>NaN</td>\n",
       "      <td>NaN</td>\n",
       "      <td>Is there a way to presupply git rebase with th...</td>\n",
       "      <td>NaN</td>\n",
       "      <td>NaN</td>\n",
       "      <td>True</td>\n",
       "    </tr>\n",
       "    <tr>\n",
       "      <th>399204</th>\n",
       "      <td>make and distribute a terminal command</td>\n",
       "      <td>NaN</td>\n",
       "      <td>NaN</td>\n",
       "      <td>make and distribute a shell command for users ...</td>\n",
       "      <td>NaN</td>\n",
       "      <td>NaN</td>\n",
       "      <td>True</td>\n",
       "    </tr>\n",
       "    <tr>\n",
       "      <th>399205</th>\n",
       "      <td>infinite loop with react.js and apollo-client</td>\n",
       "      <td>NaN</td>\n",
       "      <td>NaN</td>\n",
       "      <td>infinite loop with react.js and usemutation</td>\n",
       "      <td>NaN</td>\n",
       "      <td>NaN</td>\n",
       "      <td>True</td>\n",
       "    </tr>\n",
       "    <tr>\n",
       "      <th>399206</th>\n",
       "      <td>SQL trigger with SUM()</td>\n",
       "      <td>NaN</td>\n",
       "      <td>NaN</td>\n",
       "      <td>SUM() of rows in Trigger(PL/SQL)</td>\n",
       "      <td>NaN</td>\n",
       "      <td>NaN</td>\n",
       "      <td>True</td>\n",
       "    </tr>\n",
       "  </tbody>\n",
       "</table>\n",
       "<p>399207 rows × 7 columns</p>\n",
       "</div>"
      ],
      "text/plain": [
       "                                                question1       id1  row1  \\\n",
       "0       Javascript Error thrown by AjaxToolKit in .NET...  368947.0   1.0   \n",
       "1       ASP.NET MVC and Paging - Search & Result Scenario  368956.0   2.0   \n",
       "2                     Repeater control to aggregate data?  369042.0   3.0   \n",
       "3       How difficult is it to develop an ASP.Net web ...  369064.0   4.0   \n",
       "4       iFrame causes scriptaculous dragging issues in...  369090.0   5.0   \n",
       "...                                                   ...       ...   ...   \n",
       "399202  Using Get-Job to test-connection, but quite di...       NaN   NaN   \n",
       "399203    Provide a list of commits to edited for reabase       NaN   NaN   \n",
       "399204             make and distribute a terminal command       NaN   NaN   \n",
       "399205      infinite loop with react.js and apollo-client       NaN   NaN   \n",
       "399206                             SQL trigger with SUM()       NaN   NaN   \n",
       "\n",
       "                                                question2       id2  row2  \\\n",
       "0               jQuery How do I get the div in this code?  368943.0   1.0   \n",
       "1       SSIS package works with windows account, fails...  368945.0   2.0   \n",
       "2       Passing a Python array to a C++ vector using Swig  368980.0   3.0   \n",
       "3                        PHP get rid of slashes full path  368981.0   4.0   \n",
       "4                      C# Sorting Datagrid column by date  368997.0   5.0   \n",
       "...                                                   ...       ...   ...   \n",
       "399202  If using Test-Connection on multiple computers...       NaN   NaN   \n",
       "399203  Is there a way to presupply git rebase with th...       NaN   NaN   \n",
       "399204  make and distribute a shell command for users ...       NaN   NaN   \n",
       "399205        infinite loop with react.js and usemutation       NaN   NaN   \n",
       "399206                   SUM() of rows in Trigger(PL/SQL)       NaN   NaN   \n",
       "\n",
       "        is_duplicate  \n",
       "0              False  \n",
       "1              False  \n",
       "2              False  \n",
       "3              False  \n",
       "4              False  \n",
       "...              ...  \n",
       "399202          True  \n",
       "399203          True  \n",
       "399204          True  \n",
       "399205          True  \n",
       "399206          True  \n",
       "\n",
       "[399207 rows x 7 columns]"
      ]
     },
     "execution_count": 6,
     "metadata": {},
     "output_type": "execute_result"
    }
   ],
   "source": [
    "joined_files = os.path.join(\"D:\\\\jupyter\\\\big data\\\\project\\\\model\\\\processed_data\\\\combined_data\", \"*.json\")\n",
    "joined_list = glob.glob(joined_files)\n",
    "sof_df = pd.concat(map(read, joined_list), ignore_index=True)\n",
    "sof_df"
   ]
  },
  {
   "cell_type": "code",
   "execution_count": 7,
   "metadata": {},
   "outputs": [
    {
     "data": {
      "text/html": [
       "<div>\n",
       "<style scoped>\n",
       "    .dataframe tbody tr th:only-of-type {\n",
       "        vertical-align: middle;\n",
       "    }\n",
       "\n",
       "    .dataframe tbody tr th {\n",
       "        vertical-align: top;\n",
       "    }\n",
       "\n",
       "    .dataframe thead th {\n",
       "        text-align: right;\n",
       "    }\n",
       "</style>\n",
       "<table border=\"1\" class=\"dataframe\">\n",
       "  <thead>\n",
       "    <tr style=\"text-align: right;\">\n",
       "      <th></th>\n",
       "      <th>question1</th>\n",
       "      <th>id1</th>\n",
       "      <th>row1</th>\n",
       "      <th>question2</th>\n",
       "      <th>id2</th>\n",
       "      <th>row2</th>\n",
       "      <th>is_duplicate</th>\n",
       "    </tr>\n",
       "  </thead>\n",
       "  <tbody>\n",
       "    <tr>\n",
       "      <th>0</th>\n",
       "      <td>standalone parentheses in javascript</td>\n",
       "      <td>NaN</td>\n",
       "      <td>NaN</td>\n",
       "      <td>A Javascript function</td>\n",
       "      <td>NaN</td>\n",
       "      <td>NaN</td>\n",
       "      <td>1</td>\n",
       "    </tr>\n",
       "    <tr>\n",
       "      <th>1</th>\n",
       "      <td>See if a Radio button is checked that isn't in...</td>\n",
       "      <td>NaN</td>\n",
       "      <td>NaN</td>\n",
       "      <td>How to get VALUE from FORM without Submitting it?</td>\n",
       "      <td>NaN</td>\n",
       "      <td>NaN</td>\n",
       "      <td>1</td>\n",
       "    </tr>\n",
       "    <tr>\n",
       "      <th>2</th>\n",
       "      <td>Pagination and .htaccess</td>\n",
       "      <td>1514756.0</td>\n",
       "      <td>33672.0</td>\n",
       "      <td>J2ME/Blackberry - how to read/write text file?</td>\n",
       "      <td>1519328.0</td>\n",
       "      <td>33672.0</td>\n",
       "      <td>0</td>\n",
       "    </tr>\n",
       "    <tr>\n",
       "      <th>3</th>\n",
       "      <td>A Windows equivalent of the Unix tail command</td>\n",
       "      <td>187587.0</td>\n",
       "      <td>20672.0</td>\n",
       "      <td>How will you categorise the various software t...</td>\n",
       "      <td>193849.0</td>\n",
       "      <td>20672.0</td>\n",
       "      <td>0</td>\n",
       "    </tr>\n",
       "    <tr>\n",
       "      <th>4</th>\n",
       "      <td>Solr 4.1 Core Initialization Failure</td>\n",
       "      <td>NaN</td>\n",
       "      <td>NaN</td>\n",
       "      <td>Solr RequestHandler init failure</td>\n",
       "      <td>NaN</td>\n",
       "      <td>NaN</td>\n",
       "      <td>1</td>\n",
       "    </tr>\n",
       "    <tr>\n",
       "      <th>...</th>\n",
       "      <td>...</td>\n",
       "      <td>...</td>\n",
       "      <td>...</td>\n",
       "      <td>...</td>\n",
       "      <td>...</td>\n",
       "      <td>...</td>\n",
       "      <td>...</td>\n",
       "    </tr>\n",
       "    <tr>\n",
       "      <th>99995</th>\n",
       "      <td>PHP Maths Equation Function</td>\n",
       "      <td>1046424.0</td>\n",
       "      <td>42158.0</td>\n",
       "      <td>SGEN, InternalsVisibleTo and assembly signing</td>\n",
       "      <td>1055382.0</td>\n",
       "      <td>42158.0</td>\n",
       "      <td>0</td>\n",
       "    </tr>\n",
       "    <tr>\n",
       "      <th>99996</th>\n",
       "      <td>How can I check if all the elements of an Arra...</td>\n",
       "      <td>NaN</td>\n",
       "      <td>NaN</td>\n",
       "      <td>Java all determine elements are same in a list</td>\n",
       "      <td>NaN</td>\n",
       "      <td>NaN</td>\n",
       "      <td>1</td>\n",
       "    </tr>\n",
       "    <tr>\n",
       "      <th>99997</th>\n",
       "      <td>Is there a way to import a 3D model into Android?</td>\n",
       "      <td>204363.0</td>\n",
       "      <td>5933.0</td>\n",
       "      <td>General way to reset a member variable to its ...</td>\n",
       "      <td>207965.0</td>\n",
       "      <td>5933.0</td>\n",
       "      <td>0</td>\n",
       "    </tr>\n",
       "    <tr>\n",
       "      <th>99998</th>\n",
       "      <td>How to remove a wpf element on a canvas by it'...</td>\n",
       "      <td>1053555.0</td>\n",
       "      <td>42460.0</td>\n",
       "      <td>Sign in form and register form</td>\n",
       "      <td>1062269.0</td>\n",
       "      <td>42460.0</td>\n",
       "      <td>0</td>\n",
       "    </tr>\n",
       "    <tr>\n",
       "      <th>99999</th>\n",
       "      <td>Syntax highlighting in Visual Web Developer 20...</td>\n",
       "      <td>295384.0</td>\n",
       "      <td>15763.0</td>\n",
       "      <td>Expectations on Partial Mock - NullReference E...</td>\n",
       "      <td>298125.0</td>\n",
       "      <td>15763.0</td>\n",
       "      <td>0</td>\n",
       "    </tr>\n",
       "  </tbody>\n",
       "</table>\n",
       "<p>100000 rows × 7 columns</p>\n",
       "</div>"
      ],
      "text/plain": [
       "                                               question1        id1     row1  \\\n",
       "0                   standalone parentheses in javascript        NaN      NaN   \n",
       "1      See if a Radio button is checked that isn't in...        NaN      NaN   \n",
       "2                               Pagination and .htaccess  1514756.0  33672.0   \n",
       "3          A Windows equivalent of the Unix tail command   187587.0  20672.0   \n",
       "4                   Solr 4.1 Core Initialization Failure        NaN      NaN   \n",
       "...                                                  ...        ...      ...   \n",
       "99995                        PHP Maths Equation Function  1046424.0  42158.0   \n",
       "99996  How can I check if all the elements of an Arra...        NaN      NaN   \n",
       "99997  Is there a way to import a 3D model into Android?   204363.0   5933.0   \n",
       "99998  How to remove a wpf element on a canvas by it'...  1053555.0  42460.0   \n",
       "99999  Syntax highlighting in Visual Web Developer 20...   295384.0  15763.0   \n",
       "\n",
       "                                               question2        id2     row2  \\\n",
       "0                                  A Javascript function        NaN      NaN   \n",
       "1      How to get VALUE from FORM without Submitting it?        NaN      NaN   \n",
       "2         J2ME/Blackberry - how to read/write text file?  1519328.0  33672.0   \n",
       "3      How will you categorise the various software t...   193849.0  20672.0   \n",
       "4                       Solr RequestHandler init failure        NaN      NaN   \n",
       "...                                                  ...        ...      ...   \n",
       "99995      SGEN, InternalsVisibleTo and assembly signing  1055382.0  42158.0   \n",
       "99996     Java all determine elements are same in a list        NaN      NaN   \n",
       "99997  General way to reset a member variable to its ...   207965.0   5933.0   \n",
       "99998                     Sign in form and register form  1062269.0  42460.0   \n",
       "99999  Expectations on Partial Mock - NullReference E...   298125.0  15763.0   \n",
       "\n",
       "       is_duplicate  \n",
       "0                 1  \n",
       "1                 1  \n",
       "2                 0  \n",
       "3                 0  \n",
       "4                 1  \n",
       "...             ...  \n",
       "99995             0  \n",
       "99996             1  \n",
       "99997             0  \n",
       "99998             0  \n",
       "99999             0  \n",
       "\n",
       "[100000 rows x 7 columns]"
      ]
     },
     "execution_count": 7,
     "metadata": {},
     "output_type": "execute_result"
    }
   ],
   "source": [
    "sof_dup_df = sof_df[sof_df[\"is_duplicate\"]==True].iloc[0:50000]\n",
    "sof_non_dup_df = sof_df[sof_df[\"is_duplicate\"]==False].iloc[0:50000]\n",
    "sof_concat_df = pd.concat((sof_dup_df,sof_non_dup_df),axis=0)\n",
    "sof_concat_df = sof_concat_df.sample(frac = 1)\n",
    "sof_concat_df.reset_index(inplace=True, drop=True)\n",
    "sof_concat_df[\"is_duplicate\"] = sof_concat_df[\"is_duplicate\"].astype(int)\n",
    "sof_concat_df"
   ]
  },
  {
   "cell_type": "markdown",
   "metadata": {},
   "source": [
    "# Data Cleaning"
   ]
  },
  {
   "cell_type": "code",
   "execution_count": 8,
   "metadata": {},
   "outputs": [],
   "source": [
    "def preprocess(question):\n",
    "    question = question.lower()\n",
    "    stop_words = nltk.corpus.stopwords.words(\"english\")\n",
    "    for w in [\"what\", \"when\", \"where\", \"who\", \"whom\", \"which\",\"whose\",\"why\",\"how\"]:\n",
    "        if w in stop_words:\n",
    "            stop_words.remove(w)\n",
    "    question = re.sub(r'\\n', '', question)\n",
    "    remove_punct = str.maketrans('', '', string.punctuation)\n",
    "    question = question.translate(remove_punct)\n",
    "    question = question.split()\n",
    "    question = [word for word in question if not word in stop_words]\n",
    "    question = nlp(' '.join(question))\n",
    "    \n",
    "    lemma_words = [y.lemma_ for y in question]\n",
    "    return lemma_words"
   ]
  },
  {
   "cell_type": "code",
   "execution_count": 9,
   "metadata": {},
   "outputs": [],
   "source": [
    "sof_concat_df[\"question1_cleaned\"] = sof_concat_df['question1'].apply(lambda x: preprocess(x))\n",
    "sof_concat_df[\"question2_cleaned\"] = sof_concat_df['question2'].apply(lambda x: preprocess(x))"
   ]
  },
  {
   "cell_type": "code",
   "execution_count": 10,
   "metadata": {},
   "outputs": [],
   "source": [
    "sof_concat_df = sof_concat_df.drop(columns=['id1', 'row1','id2','row2'])"
   ]
  },
  {
   "cell_type": "markdown",
   "metadata": {},
   "source": [
    "# Similarity metrics:"
   ]
  },
  {
   "cell_type": "code",
   "execution_count": 15,
   "metadata": {},
   "outputs": [],
   "source": [
    "from scipy.spatial.distance import cosine,cityblock,euclidean,minkowski,jaccard"
   ]
  },
  {
   "cell_type": "code",
   "execution_count": 16,
   "metadata": {},
   "outputs": [],
   "source": [
    "def cal_similarities(q1_embed,q2_embed):\n",
    "    cos_sim = 1 - cosine(q1_embed,q2_embed)\n",
    "    man_sim = 1 / (1 + cityblock(q1_embed,q2_embed))\n",
    "    euc_sim = 1 / (1 + euclidean(q1_embed,q2_embed))\n",
    "    return cos_sim,man_sim,euc_sim\n",
    "    "
   ]
  },
  {
   "cell_type": "markdown",
   "metadata": {},
   "source": [
    "#     SBERT"
   ]
  },
  {
   "cell_type": "code",
   "execution_count": 17,
   "metadata": {},
   "outputs": [],
   "source": [
    "from sentence_transformers import SentenceTransformer"
   ]
  },
  {
   "cell_type": "code",
   "execution_count": 18,
   "metadata": {},
   "outputs": [],
   "source": [
    "sbert_model = SentenceTransformer('distilbert-base-nli-mean-tokens')"
   ]
  },
  {
   "cell_type": "code",
   "execution_count": 19,
   "metadata": {},
   "outputs": [],
   "source": [
    "def gen_sbert_embedding(text):\n",
    "    vectors = sbert_model.encode(text)\n",
    "    return vectors"
   ]
  },
  {
   "cell_type": "code",
   "execution_count": 20,
   "metadata": {},
   "outputs": [
    {
     "name": "stderr",
     "output_type": "stream",
     "text": [
      "100000it [54:30, 30.57it/s]\n"
     ]
    }
   ],
   "source": [
    "sb_cos_sim_arr=[]\n",
    "sb_man_sim_arr=[]\n",
    "sb_euc_sim_arr=[]\n",
    "\n",
    "for q1,q2,label in tqdm(zip(list(sof_concat_df[\"question1\"]),list(sof_concat_df[\"question2\"]),list(sof_concat_df[\"is_duplicate\"]))):\n",
    "    \n",
    "    q1_embed = gen_sbert_embedding(q1.lower())\n",
    "    q2_embed = gen_sbert_embedding(q2.lower())\n",
    "    \n",
    "    sb_cos_sim,sb_man_sim,sb_euc_sim = cal_similarities(q1_embed,q2_embed)\n",
    "    \n",
    "    sb_cos_sim_arr.append(sb_cos_sim)\n",
    "    sb_man_sim_arr.append(sb_man_sim*10)\n",
    "    sb_euc_sim_arr.append(sb_euc_sim*10)\n",
    "    \n",
    "sof_concat_df[\"sb_cos_sim\"] = sb_cos_sim_arr\n",
    "sof_concat_df[\"sb_man_sim\"] = sb_man_sim_arr\n",
    "sof_concat_df[\"sb_euc_sim\"] = sb_euc_sim_arr\n",
    "\n",
    "\n",
    "                "
   ]
  },
  {
   "cell_type": "code",
   "execution_count": 21,
   "metadata": {},
   "outputs": [
    {
     "data": {
      "text/html": [
       "<div>\n",
       "<style scoped>\n",
       "    .dataframe tbody tr th:only-of-type {\n",
       "        vertical-align: middle;\n",
       "    }\n",
       "\n",
       "    .dataframe tbody tr th {\n",
       "        vertical-align: top;\n",
       "    }\n",
       "\n",
       "    .dataframe thead th {\n",
       "        text-align: right;\n",
       "    }\n",
       "</style>\n",
       "<table border=\"1\" class=\"dataframe\">\n",
       "  <thead>\n",
       "    <tr style=\"text-align: right;\">\n",
       "      <th></th>\n",
       "      <th>question1</th>\n",
       "      <th>question2</th>\n",
       "      <th>is_duplicate</th>\n",
       "      <th>question1_cleaned</th>\n",
       "      <th>question2_cleaned</th>\n",
       "      <th>sb_cos_sim</th>\n",
       "      <th>sb_man_sim</th>\n",
       "      <th>sb_euc_sim</th>\n",
       "    </tr>\n",
       "  </thead>\n",
       "  <tbody>\n",
       "    <tr>\n",
       "      <th>0</th>\n",
       "      <td>standalone parentheses in javascript</td>\n",
       "      <td>A Javascript function</td>\n",
       "      <td>1</td>\n",
       "      <td>[standalone, parenthesis, javascript]</td>\n",
       "      <td>[javascript, function]</td>\n",
       "      <td>0.848738</td>\n",
       "      <td>0.049302</td>\n",
       "      <td>0.974596</td>\n",
       "    </tr>\n",
       "    <tr>\n",
       "      <th>1</th>\n",
       "      <td>See if a Radio button is checked that isn't in...</td>\n",
       "      <td>How to get VALUE from FORM without Submitting it?</td>\n",
       "      <td>1</td>\n",
       "      <td>[see, radio, button, check, be, not, inside, f...</td>\n",
       "      <td>[how, get, value, form, without, submit]</td>\n",
       "      <td>0.338827</td>\n",
       "      <td>0.024686</td>\n",
       "      <td>0.516216</td>\n",
       "    </tr>\n",
       "    <tr>\n",
       "      <th>2</th>\n",
       "      <td>Pagination and .htaccess</td>\n",
       "      <td>J2ME/Blackberry - how to read/write text file?</td>\n",
       "      <td>0</td>\n",
       "      <td>[pagination, htaccess]</td>\n",
       "      <td>[j2meblackberry, how, readwrite, text, file]</td>\n",
       "      <td>0.371934</td>\n",
       "      <td>0.024778</td>\n",
       "      <td>0.518206</td>\n",
       "    </tr>\n",
       "    <tr>\n",
       "      <th>3</th>\n",
       "      <td>A Windows equivalent of the Unix tail command</td>\n",
       "      <td>How will you categorise the various software t...</td>\n",
       "      <td>0</td>\n",
       "      <td>[window, equivalent, unix, tail, command]</td>\n",
       "      <td>[how, categorise, various, software, testing, ...</td>\n",
       "      <td>0.538113</td>\n",
       "      <td>0.028768</td>\n",
       "      <td>0.590299</td>\n",
       "    </tr>\n",
       "    <tr>\n",
       "      <th>4</th>\n",
       "      <td>Solr 4.1 Core Initialization Failure</td>\n",
       "      <td>Solr RequestHandler init failure</td>\n",
       "      <td>1</td>\n",
       "      <td>[solr, 41, core, initialization, failure]</td>\n",
       "      <td>[solr, requesthandler, init, failure]</td>\n",
       "      <td>0.791258</td>\n",
       "      <td>0.042740</td>\n",
       "      <td>0.872217</td>\n",
       "    </tr>\n",
       "    <tr>\n",
       "      <th>...</th>\n",
       "      <td>...</td>\n",
       "      <td>...</td>\n",
       "      <td>...</td>\n",
       "      <td>...</td>\n",
       "      <td>...</td>\n",
       "      <td>...</td>\n",
       "      <td>...</td>\n",
       "      <td>...</td>\n",
       "    </tr>\n",
       "    <tr>\n",
       "      <th>99995</th>\n",
       "      <td>PHP Maths Equation Function</td>\n",
       "      <td>SGEN, InternalsVisibleTo and assembly signing</td>\n",
       "      <td>0</td>\n",
       "      <td>[php, maths, equation, function]</td>\n",
       "      <td>[sgen, internalsvisibleto, assembly, signing]</td>\n",
       "      <td>0.588093</td>\n",
       "      <td>0.030861</td>\n",
       "      <td>0.635260</td>\n",
       "    </tr>\n",
       "    <tr>\n",
       "      <th>99996</th>\n",
       "      <td>How can I check if all the elements of an Arra...</td>\n",
       "      <td>Java all determine elements are same in a list</td>\n",
       "      <td>1</td>\n",
       "      <td>[how, check, element, arraylist, java]</td>\n",
       "      <td>[java, determine, element, list]</td>\n",
       "      <td>0.796350</td>\n",
       "      <td>0.043191</td>\n",
       "      <td>0.874272</td>\n",
       "    </tr>\n",
       "    <tr>\n",
       "      <th>99997</th>\n",
       "      <td>Is there a way to import a 3D model into Android?</td>\n",
       "      <td>General way to reset a member variable to its ...</td>\n",
       "      <td>0</td>\n",
       "      <td>[way, import, 3d, model, android]</td>\n",
       "      <td>[general, way, reset, member, variable, origin...</td>\n",
       "      <td>0.366446</td>\n",
       "      <td>0.024452</td>\n",
       "      <td>0.515358</td>\n",
       "    </tr>\n",
       "    <tr>\n",
       "      <th>99998</th>\n",
       "      <td>How to remove a wpf element on a canvas by it'...</td>\n",
       "      <td>Sign in form and register form</td>\n",
       "      <td>0</td>\n",
       "      <td>[how, remove, wpf, element, canvas, tag, name]</td>\n",
       "      <td>[sign, form, register, form]</td>\n",
       "      <td>0.478150</td>\n",
       "      <td>0.027039</td>\n",
       "      <td>0.567456</td>\n",
       "    </tr>\n",
       "    <tr>\n",
       "      <th>99999</th>\n",
       "      <td>Syntax highlighting in Visual Web Developer 20...</td>\n",
       "      <td>Expectations on Partial Mock - NullReference E...</td>\n",
       "      <td>0</td>\n",
       "      <td>[syntax, highlight, visual, web, developer, 20...</td>\n",
       "      <td>[expectation, partial, mock, nullreference, ex...</td>\n",
       "      <td>0.406255</td>\n",
       "      <td>0.026435</td>\n",
       "      <td>0.544166</td>\n",
       "    </tr>\n",
       "  </tbody>\n",
       "</table>\n",
       "<p>100000 rows × 8 columns</p>\n",
       "</div>"
      ],
      "text/plain": [
       "                                               question1  \\\n",
       "0                   standalone parentheses in javascript   \n",
       "1      See if a Radio button is checked that isn't in...   \n",
       "2                               Pagination and .htaccess   \n",
       "3          A Windows equivalent of the Unix tail command   \n",
       "4                   Solr 4.1 Core Initialization Failure   \n",
       "...                                                  ...   \n",
       "99995                        PHP Maths Equation Function   \n",
       "99996  How can I check if all the elements of an Arra...   \n",
       "99997  Is there a way to import a 3D model into Android?   \n",
       "99998  How to remove a wpf element on a canvas by it'...   \n",
       "99999  Syntax highlighting in Visual Web Developer 20...   \n",
       "\n",
       "                                               question2  is_duplicate  \\\n",
       "0                                  A Javascript function             1   \n",
       "1      How to get VALUE from FORM without Submitting it?             1   \n",
       "2         J2ME/Blackberry - how to read/write text file?             0   \n",
       "3      How will you categorise the various software t...             0   \n",
       "4                       Solr RequestHandler init failure             1   \n",
       "...                                                  ...           ...   \n",
       "99995      SGEN, InternalsVisibleTo and assembly signing             0   \n",
       "99996     Java all determine elements are same in a list             1   \n",
       "99997  General way to reset a member variable to its ...             0   \n",
       "99998                     Sign in form and register form             0   \n",
       "99999  Expectations on Partial Mock - NullReference E...             0   \n",
       "\n",
       "                                       question1_cleaned  \\\n",
       "0                  [standalone, parenthesis, javascript]   \n",
       "1      [see, radio, button, check, be, not, inside, f...   \n",
       "2                                 [pagination, htaccess]   \n",
       "3              [window, equivalent, unix, tail, command]   \n",
       "4              [solr, 41, core, initialization, failure]   \n",
       "...                                                  ...   \n",
       "99995                   [php, maths, equation, function]   \n",
       "99996             [how, check, element, arraylist, java]   \n",
       "99997                  [way, import, 3d, model, android]   \n",
       "99998     [how, remove, wpf, element, canvas, tag, name]   \n",
       "99999  [syntax, highlight, visual, web, developer, 20...   \n",
       "\n",
       "                                       question2_cleaned  sb_cos_sim  \\\n",
       "0                                 [javascript, function]    0.848738   \n",
       "1               [how, get, value, form, without, submit]    0.338827   \n",
       "2           [j2meblackberry, how, readwrite, text, file]    0.371934   \n",
       "3      [how, categorise, various, software, testing, ...    0.538113   \n",
       "4                  [solr, requesthandler, init, failure]    0.791258   \n",
       "...                                                  ...         ...   \n",
       "99995      [sgen, internalsvisibleto, assembly, signing]    0.588093   \n",
       "99996                   [java, determine, element, list]    0.796350   \n",
       "99997  [general, way, reset, member, variable, origin...    0.366446   \n",
       "99998                       [sign, form, register, form]    0.478150   \n",
       "99999  [expectation, partial, mock, nullreference, ex...    0.406255   \n",
       "\n",
       "       sb_man_sim  sb_euc_sim  \n",
       "0        0.049302    0.974596  \n",
       "1        0.024686    0.516216  \n",
       "2        0.024778    0.518206  \n",
       "3        0.028768    0.590299  \n",
       "4        0.042740    0.872217  \n",
       "...           ...         ...  \n",
       "99995    0.030861    0.635260  \n",
       "99996    0.043191    0.874272  \n",
       "99997    0.024452    0.515358  \n",
       "99998    0.027039    0.567456  \n",
       "99999    0.026435    0.544166  \n",
       "\n",
       "[100000 rows x 8 columns]"
      ]
     },
     "execution_count": 21,
     "metadata": {},
     "output_type": "execute_result"
    }
   ],
   "source": [
    "sof_concat_df"
   ]
  },
  {
   "cell_type": "code",
   "execution_count": 22,
   "metadata": {},
   "outputs": [],
   "source": [
    "import seaborn as sns\n",
    "import matplotlib.pyplot as plt"
   ]
  },
  {
   "cell_type": "code",
   "execution_count": 23,
   "metadata": {},
   "outputs": [
    {
     "name": "stderr",
     "output_type": "stream",
     "text": [
      "d:\\jupyter\\big data\\project\\spark-test\\venv_tf_1\\lib\\site-packages\\ipykernel_launcher.py:1: UserWarning: \n",
      "\n",
      "`distplot` is a deprecated function and will be removed in seaborn v0.14.0.\n",
      "\n",
      "Please adapt your code to use either `displot` (a figure-level function with\n",
      "similar flexibility) or `histplot` (an axes-level function for histograms).\n",
      "\n",
      "For a guide to updating your code to use the new functions, please see\n",
      "https://gist.github.com/mwaskom/de44147ed2974457ad6372750bbe5751\n",
      "\n",
      "  \"\"\"Entry point for launching an IPython kernel.\n",
      "d:\\jupyter\\big data\\project\\spark-test\\venv_tf_1\\lib\\site-packages\\ipykernel_launcher.py:2: UserWarning: \n",
      "\n",
      "`distplot` is a deprecated function and will be removed in seaborn v0.14.0.\n",
      "\n",
      "Please adapt your code to use either `displot` (a figure-level function with\n",
      "similar flexibility) or `histplot` (an axes-level function for histograms).\n",
      "\n",
      "For a guide to updating your code to use the new functions, please see\n",
      "https://gist.github.com/mwaskom/de44147ed2974457ad6372750bbe5751\n",
      "\n",
      "  \n"
     ]
    },
    {
     "data": {
      "image/png": "[encoded data removed]",
      "text/plain": [
       "<Figure size 640x480 with 1 Axes>"
      ]
     },
     "metadata": {},
     "output_type": "display_data"
    }
   ],
   "source": [
    "sns.distplot(sof_concat_df[sof_concat_df['is_duplicate'] == 1]['sb_cos_sim'][0:] , label = \"1\", color = 'red')\n",
    "sns.distplot(sof_concat_df[sof_concat_df['is_duplicate'] == 0]['sb_cos_sim'][0:] , label = \"0\" , color = 'blue' )\n",
    "plt.show()"
   ]
  },
  {
   "cell_type": "code",
   "execution_count": 24,
   "metadata": {},
   "outputs": [
    {
     "name": "stderr",
     "output_type": "stream",
     "text": [
      "d:\\jupyter\\big data\\project\\spark-test\\venv_tf_1\\lib\\site-packages\\ipykernel_launcher.py:1: UserWarning: \n",
      "\n",
      "`distplot` is a deprecated function and will be removed in seaborn v0.14.0.\n",
      "\n",
      "Please adapt your code to use either `displot` (a figure-level function with\n",
      "similar flexibility) or `histplot` (an axes-level function for histograms).\n",
      "\n",
      "For a guide to updating your code to use the new functions, please see\n",
      "https://gist.github.com/mwaskom/de44147ed2974457ad6372750bbe5751\n",
      "\n",
      "  \"\"\"Entry point for launching an IPython kernel.\n",
      "d:\\jupyter\\big data\\project\\spark-test\\venv_tf_1\\lib\\site-packages\\ipykernel_launcher.py:2: UserWarning: \n",
      "\n",
      "`distplot` is a deprecated function and will be removed in seaborn v0.14.0.\n",
      "\n",
      "Please adapt your code to use either `displot` (a figure-level function with\n",
      "similar flexibility) or `histplot` (an axes-level function for histograms).\n",
      "\n",
      "For a guide to updating your code to use the new functions, please see\n",
      "https://gist.github.com/mwaskom/de44147ed2974457ad6372750bbe5751\n",
      "\n",
      "  \n"
     ]
    },
    {
     "data": {
      "image/png": "[encoded data removed]",
      "text/plain": [
       "<Figure size 640x480 with 1 Axes>"
      ]
     },
     "metadata": {},
     "output_type": "display_data"
    }
   ],
   "source": [
    "sns.distplot(sof_concat_df[sof_concat_df['is_duplicate'] == 1]['sb_man_sim'][0:] , label = \"1\", color = 'red')\n",
    "sns.distplot(sof_concat_df[sof_concat_df['is_duplicate'] == 0]['sb_man_sim'][0:] , label = \"0\" , color = 'blue' )\n",
    "plt.show()"
   ]
  },
  {
   "cell_type": "code",
   "execution_count": 25,
   "metadata": {},
   "outputs": [
    {
     "name": "stderr",
     "output_type": "stream",
     "text": [
      "d:\\jupyter\\big data\\project\\spark-test\\venv_tf_1\\lib\\site-packages\\ipykernel_launcher.py:1: UserWarning: \n",
      "\n",
      "`distplot` is a deprecated function and will be removed in seaborn v0.14.0.\n",
      "\n",
      "Please adapt your code to use either `displot` (a figure-level function with\n",
      "similar flexibility) or `histplot` (an axes-level function for histograms).\n",
      "\n",
      "For a guide to updating your code to use the new functions, please see\n",
      "https://gist.github.com/mwaskom/de44147ed2974457ad6372750bbe5751\n",
      "\n",
      "  \"\"\"Entry point for launching an IPython kernel.\n",
      "d:\\jupyter\\big data\\project\\spark-test\\venv_tf_1\\lib\\site-packages\\ipykernel_launcher.py:2: UserWarning: \n",
      "\n",
      "`distplot` is a deprecated function and will be removed in seaborn v0.14.0.\n",
      "\n",
      "Please adapt your code to use either `displot` (a figure-level function with\n",
      "similar flexibility) or `histplot` (an axes-level function for histograms).\n",
      "\n",
      "For a guide to updating your code to use the new functions, please see\n",
      "https://gist.github.com/mwaskom/de44147ed2974457ad6372750bbe5751\n",
      "\n",
      "  \n"
     ]
    },
    {
     "data": {
      "image/png": "[encoded data removed]",
      "text/plain": [
       "<Figure size 640x480 with 1 Axes>"
      ]
     },
     "metadata": {},
     "output_type": "display_data"
    }
   ],
   "source": [
    "sns.distplot(sof_concat_df[sof_concat_df['is_duplicate'] == 1]['sb_euc_sim'][0:] , label = \"1\", color = 'red')\n",
    "sns.distplot(sof_concat_df[sof_concat_df['is_duplicate'] == 0]['sb_euc_sim'][0:] , label = \"0\" , color = 'blue' )\n",
    "plt.show()"
   ]
  },
  {
   "cell_type": "markdown",
   "metadata": {},
   "source": [
    "# FastText"
   ]
  },
  {
   "cell_type": "code",
   "execution_count": null,
   "metadata": {},
   "outputs": [],
   "source": [
    "sof_concat_df['question1_cleaned'].apply(lambda x: ' '.join(x)).to_csv(r'questions.txt', sep=\"\\n\", mode='a', index=False, header=False)\n",
    "sof_concat_df['question2_cleaned'].apply(lambda x: ' '.join(x)).to_csv(r'questions.txt', sep=\"\\n\", mode='a', index=False, header=False)"
   ]
  },
  {
   "cell_type": "code",
   "execution_count": null,
   "metadata": {},
   "outputs": [],
   "source": [
    "import fasttext"
   ]
  },
  {
   "cell_type": "code",
   "execution_count": null,
   "metadata": {},
   "outputs": [],
   "source": [
    "ft_model = fasttext.train_unsupervised('questions.txt', model='skipgram',dim=300,epoch=25)"
   ]
  },
  {
   "cell_type": "code",
   "execution_count": null,
   "metadata": {},
   "outputs": [],
   "source": [
    "ft_cos_sim_arr=[]\n",
    "ft_man_sim_arr=[]\n",
    "ft_euc_sim_arr=[]\n",
    "\n",
    "for q1_tokens,q2_tokens in tqdm(zip(list(sof_concat_df[\"question1\"]),list(sof_concat_df[\"question2\"]))):\n",
    "\n",
    "    q1 = ' '.join(q1_tokens)\n",
    "    q2 = ' '.join(q2_tokens)\n",
    "    q1_embed = ft_model.get_sentence_vector(q1)\n",
    "    q2_embed = ft_model.get_sentence_vector(q2)\n",
    "    \n",
    "    ft_cos_sim,ft_man_sim,ft_euc_sim = cal_similarities(q1_embed,q2_embed)\n",
    "    ft_cos_sim_arr.append(ft_cos_sim)\n",
    "    ft_man_sim_arr.append(ft_man_sim)\n",
    "    ft_euc_sim_arr.append(ft_euc_sim)\n",
    "\n",
    "    \n",
    "sof_concat_df[\"ft_cos_sim\"] = ft_cos_sim_arr\n",
    "sof_concat_df[\"ft_man_sim\"] = ft_man_sim_arr\n",
    "sof_concat_df[\"ft_euc_sim\"] = ft_euc_sim_arr"
   ]
  },
  {
   "cell_type": "code",
   "execution_count": null,
   "metadata": {},
   "outputs": [],
   "source": [
    "sof_concat_df"
   ]
  },
  {
   "cell_type": "code",
   "execution_count": null,
   "metadata": {
    "scrolled": true
   },
   "outputs": [],
   "source": [
    "sns.distplot(sof_concat_df[sof_concat_df['is_duplicate'] == 1]['ft_cos_sim'][0:] , label = \"1\", color = 'red')\n",
    "sns.distplot(sof_concat_df[sof_concat_df['is_duplicate'] == 0]['ft_cos_sim'][0:] , label = \"0\" , color = 'blue' )\n",
    "plt.show()"
   ]
  },
  {
   "cell_type": "code",
   "execution_count": null,
   "metadata": {
    "scrolled": true
   },
   "outputs": [],
   "source": [
    "sns.distplot(sof_concat_df[sof_concat_df['is_duplicate'] == 1]['ft_man_sim'][0:] , label = \"1\", color = 'red')\n",
    "sns.distplot(sof_concat_df[sof_concat_df['is_duplicate'] == 0]['ft_man_sim'][0:] , label = \"0\" , color = 'blue' )\n",
    "plt.show()"
   ]
  },
  {
   "cell_type": "code",
   "execution_count": null,
   "metadata": {},
   "outputs": [],
   "source": [
    "sns.distplot(sof_concat_df[sof_concat_df['is_duplicate'] == 1]['ft_euc_sim'][0:] , label = \"1\", color = 'red')\n",
    "sns.distplot(sof_concat_df[sof_concat_df['is_duplicate'] == 0]['ft_euc_sim'][0:] , label = \"0\" , color = 'blue' )\n",
    "plt.show()"
   ]
  },
  {
   "cell_type": "markdown",
   "metadata": {},
   "source": [
    "# USE"
   ]
  },
  {
   "cell_type": "code",
   "execution_count": 26,
   "metadata": {},
   "outputs": [],
   "source": [
    "import tensorflow_hub as hub\n",
    "embed = hub.load(\"D:/jupyter/big data/project/spark-test/use\")"
   ]
  },
  {
   "cell_type": "code",
   "execution_count": 27,
   "metadata": {},
   "outputs": [],
   "source": [
    "def gen_use_embedding(text):\n",
    "    embeddings = embed([text])\n",
    "    return embeddings[0]"
   ]
  },
  {
   "cell_type": "code",
   "execution_count": 28,
   "metadata": {},
   "outputs": [
    {
     "name": "stderr",
     "output_type": "stream",
     "text": [
      "100000it [06:49, 244.25it/s]\n"
     ]
    }
   ],
   "source": [
    "use_cos_sim_arr=[]\n",
    "use_man_sim_arr=[]\n",
    "use_euc_sim_arr=[]\n",
    "\n",
    "for q1,q2,label in tqdm(zip(list(sof_concat_df[\"question1\"]),list(sof_concat_df[\"question2\"]),list(sof_concat_df[\"is_duplicate\"]))):\n",
    "    \n",
    "    q1_embed = gen_use_embedding(q1.lower())\n",
    "    q2_embed = gen_use_embedding(q2.lower())\n",
    "    \n",
    "    use_cos_sim,use_man_sim,use_euc_sim = cal_similarities(q1_embed,q2_embed)\n",
    "    \n",
    "    use_cos_sim_arr.append(use_cos_sim)\n",
    "    use_man_sim_arr.append(use_man_sim)\n",
    "    use_euc_sim_arr.append(use_euc_sim)\n",
    "    \n",
    "sof_concat_df[\"use_cos_sim\"] = use_cos_sim_arr\n",
    "sof_concat_df[\"use_man_sim\"] = use_man_sim_arr\n",
    "sof_concat_df[\"use_euc_sim\"] = use_euc_sim_arr\n",
    "\n",
    "\n",
    "                "
   ]
  },
  {
   "cell_type": "code",
   "execution_count": 29,
   "metadata": {},
   "outputs": [
    {
     "data": {
      "text/html": [
       "<div>\n",
       "<style scoped>\n",
       "    .dataframe tbody tr th:only-of-type {\n",
       "        vertical-align: middle;\n",
       "    }\n",
       "\n",
       "    .dataframe tbody tr th {\n",
       "        vertical-align: top;\n",
       "    }\n",
       "\n",
       "    .dataframe thead th {\n",
       "        text-align: right;\n",
       "    }\n",
       "</style>\n",
       "<table border=\"1\" class=\"dataframe\">\n",
       "  <thead>\n",
       "    <tr style=\"text-align: right;\">\n",
       "      <th></th>\n",
       "      <th>question1</th>\n",
       "      <th>question2</th>\n",
       "      <th>is_duplicate</th>\n",
       "      <th>question1_cleaned</th>\n",
       "      <th>question2_cleaned</th>\n",
       "      <th>sb_cos_sim</th>\n",
       "      <th>sb_man_sim</th>\n",
       "      <th>sb_euc_sim</th>\n",
       "      <th>use_cos_sim</th>\n",
       "      <th>use_man_sim</th>\n",
       "      <th>use_euc_sim</th>\n",
       "    </tr>\n",
       "  </thead>\n",
       "  <tbody>\n",
       "    <tr>\n",
       "      <th>0</th>\n",
       "      <td>standalone parentheses in javascript</td>\n",
       "      <td>A Javascript function</td>\n",
       "      <td>1</td>\n",
       "      <td>[standalone, parenthesis, javascript]</td>\n",
       "      <td>[javascript, function]</td>\n",
       "      <td>0.848738</td>\n",
       "      <td>0.049302</td>\n",
       "      <td>0.974596</td>\n",
       "      <td>0.565140</td>\n",
       "      <td>0.056495</td>\n",
       "      <td>0.517441</td>\n",
       "    </tr>\n",
       "    <tr>\n",
       "      <th>1</th>\n",
       "      <td>See if a Radio button is checked that isn't in...</td>\n",
       "      <td>How to get VALUE from FORM without Submitting it?</td>\n",
       "      <td>1</td>\n",
       "      <td>[see, radio, button, check, be, not, inside, f...</td>\n",
       "      <td>[how, get, value, form, without, submit]</td>\n",
       "      <td>0.338827</td>\n",
       "      <td>0.024686</td>\n",
       "      <td>0.516216</td>\n",
       "      <td>0.492656</td>\n",
       "      <td>0.053085</td>\n",
       "      <td>0.498177</td>\n",
       "    </tr>\n",
       "    <tr>\n",
       "      <th>2</th>\n",
       "      <td>Pagination and .htaccess</td>\n",
       "      <td>J2ME/Blackberry - how to read/write text file?</td>\n",
       "      <td>0</td>\n",
       "      <td>[pagination, htaccess]</td>\n",
       "      <td>[j2meblackberry, how, readwrite, text, file]</td>\n",
       "      <td>0.371934</td>\n",
       "      <td>0.024778</td>\n",
       "      <td>0.518206</td>\n",
       "      <td>0.109520</td>\n",
       "      <td>0.039940</td>\n",
       "      <td>0.428352</td>\n",
       "    </tr>\n",
       "    <tr>\n",
       "      <th>3</th>\n",
       "      <td>A Windows equivalent of the Unix tail command</td>\n",
       "      <td>How will you categorise the various software t...</td>\n",
       "      <td>0</td>\n",
       "      <td>[window, equivalent, unix, tail, command]</td>\n",
       "      <td>[how, categorise, various, software, testing, ...</td>\n",
       "      <td>0.538113</td>\n",
       "      <td>0.028768</td>\n",
       "      <td>0.590299</td>\n",
       "      <td>0.064168</td>\n",
       "      <td>0.037872</td>\n",
       "      <td>0.422282</td>\n",
       "    </tr>\n",
       "    <tr>\n",
       "      <th>4</th>\n",
       "      <td>Solr 4.1 Core Initialization Failure</td>\n",
       "      <td>Solr RequestHandler init failure</td>\n",
       "      <td>1</td>\n",
       "      <td>[solr, 41, core, initialization, failure]</td>\n",
       "      <td>[solr, requesthandler, init, failure]</td>\n",
       "      <td>0.791258</td>\n",
       "      <td>0.042740</td>\n",
       "      <td>0.872217</td>\n",
       "      <td>0.790833</td>\n",
       "      <td>0.082210</td>\n",
       "      <td>0.607243</td>\n",
       "    </tr>\n",
       "    <tr>\n",
       "      <th>...</th>\n",
       "      <td>...</td>\n",
       "      <td>...</td>\n",
       "      <td>...</td>\n",
       "      <td>...</td>\n",
       "      <td>...</td>\n",
       "      <td>...</td>\n",
       "      <td>...</td>\n",
       "      <td>...</td>\n",
       "      <td>...</td>\n",
       "      <td>...</td>\n",
       "      <td>...</td>\n",
       "    </tr>\n",
       "    <tr>\n",
       "      <th>99995</th>\n",
       "      <td>PHP Maths Equation Function</td>\n",
       "      <td>SGEN, InternalsVisibleTo and assembly signing</td>\n",
       "      <td>0</td>\n",
       "      <td>[php, maths, equation, function]</td>\n",
       "      <td>[sgen, internalsvisibleto, assembly, signing]</td>\n",
       "      <td>0.588093</td>\n",
       "      <td>0.030861</td>\n",
       "      <td>0.635260</td>\n",
       "      <td>-0.054984</td>\n",
       "      <td>0.035581</td>\n",
       "      <td>0.407735</td>\n",
       "    </tr>\n",
       "    <tr>\n",
       "      <th>99996</th>\n",
       "      <td>How can I check if all the elements of an Arra...</td>\n",
       "      <td>Java all determine elements are same in a list</td>\n",
       "      <td>1</td>\n",
       "      <td>[how, check, element, arraylist, java]</td>\n",
       "      <td>[java, determine, element, list]</td>\n",
       "      <td>0.796350</td>\n",
       "      <td>0.043191</td>\n",
       "      <td>0.874272</td>\n",
       "      <td>0.770271</td>\n",
       "      <td>0.080059</td>\n",
       "      <td>0.596007</td>\n",
       "    </tr>\n",
       "    <tr>\n",
       "      <th>99997</th>\n",
       "      <td>Is there a way to import a 3D model into Android?</td>\n",
       "      <td>General way to reset a member variable to its ...</td>\n",
       "      <td>0</td>\n",
       "      <td>[way, import, 3d, model, android]</td>\n",
       "      <td>[general, way, reset, member, variable, origin...</td>\n",
       "      <td>0.366446</td>\n",
       "      <td>0.024452</td>\n",
       "      <td>0.515358</td>\n",
       "      <td>0.046242</td>\n",
       "      <td>0.037493</td>\n",
       "      <td>0.419969</td>\n",
       "    </tr>\n",
       "    <tr>\n",
       "      <th>99998</th>\n",
       "      <td>How to remove a wpf element on a canvas by it'...</td>\n",
       "      <td>Sign in form and register form</td>\n",
       "      <td>0</td>\n",
       "      <td>[how, remove, wpf, element, canvas, tag, name]</td>\n",
       "      <td>[sign, form, register, form]</td>\n",
       "      <td>0.478150</td>\n",
       "      <td>0.027039</td>\n",
       "      <td>0.567456</td>\n",
       "      <td>-0.039541</td>\n",
       "      <td>0.036161</td>\n",
       "      <td>0.409517</td>\n",
       "    </tr>\n",
       "    <tr>\n",
       "      <th>99999</th>\n",
       "      <td>Syntax highlighting in Visual Web Developer 20...</td>\n",
       "      <td>Expectations on Partial Mock - NullReference E...</td>\n",
       "      <td>0</td>\n",
       "      <td>[syntax, highlight, visual, web, developer, 20...</td>\n",
       "      <td>[expectation, partial, mock, nullreference, ex...</td>\n",
       "      <td>0.406255</td>\n",
       "      <td>0.026435</td>\n",
       "      <td>0.544166</td>\n",
       "      <td>0.215895</td>\n",
       "      <td>0.042053</td>\n",
       "      <td>0.443994</td>\n",
       "    </tr>\n",
       "  </tbody>\n",
       "</table>\n",
       "<p>100000 rows × 11 columns</p>\n",
       "</div>"
      ],
      "text/plain": [
       "                                               question1  \\\n",
       "0                   standalone parentheses in javascript   \n",
       "1      See if a Radio button is checked that isn't in...   \n",
       "2                               Pagination and .htaccess   \n",
       "3          A Windows equivalent of the Unix tail command   \n",
       "4                   Solr 4.1 Core Initialization Failure   \n",
       "...                                                  ...   \n",
       "99995                        PHP Maths Equation Function   \n",
       "99996  How can I check if all the elements of an Arra...   \n",
       "99997  Is there a way to import a 3D model into Android?   \n",
       "99998  How to remove a wpf element on a canvas by it'...   \n",
       "99999  Syntax highlighting in Visual Web Developer 20...   \n",
       "\n",
       "                                               question2  is_duplicate  \\\n",
       "0                                  A Javascript function             1   \n",
       "1      How to get VALUE from FORM without Submitting it?             1   \n",
       "2         J2ME/Blackberry - how to read/write text file?             0   \n",
       "3      How will you categorise the various software t...             0   \n",
       "4                       Solr RequestHandler init failure             1   \n",
       "...                                                  ...           ...   \n",
       "99995      SGEN, InternalsVisibleTo and assembly signing             0   \n",
       "99996     Java all determine elements are same in a list             1   \n",
       "99997  General way to reset a member variable to its ...             0   \n",
       "99998                     Sign in form and register form             0   \n",
       "99999  Expectations on Partial Mock - NullReference E...             0   \n",
       "\n",
       "                                       question1_cleaned  \\\n",
       "0                  [standalone, parenthesis, javascript]   \n",
       "1      [see, radio, button, check, be, not, inside, f...   \n",
       "2                                 [pagination, htaccess]   \n",
       "3              [window, equivalent, unix, tail, command]   \n",
       "4              [solr, 41, core, initialization, failure]   \n",
       "...                                                  ...   \n",
       "99995                   [php, maths, equation, function]   \n",
       "99996             [how, check, element, arraylist, java]   \n",
       "99997                  [way, import, 3d, model, android]   \n",
       "99998     [how, remove, wpf, element, canvas, tag, name]   \n",
       "99999  [syntax, highlight, visual, web, developer, 20...   \n",
       "\n",
       "                                       question2_cleaned  sb_cos_sim  \\\n",
       "0                                 [javascript, function]    0.848738   \n",
       "1               [how, get, value, form, without, submit]    0.338827   \n",
       "2           [j2meblackberry, how, readwrite, text, file]    0.371934   \n",
       "3      [how, categorise, various, software, testing, ...    0.538113   \n",
       "4                  [solr, requesthandler, init, failure]    0.791258   \n",
       "...                                                  ...         ...   \n",
       "99995      [sgen, internalsvisibleto, assembly, signing]    0.588093   \n",
       "99996                   [java, determine, element, list]    0.796350   \n",
       "99997  [general, way, reset, member, variable, origin...    0.366446   \n",
       "99998                       [sign, form, register, form]    0.478150   \n",
       "99999  [expectation, partial, mock, nullreference, ex...    0.406255   \n",
       "\n",
       "       sb_man_sim  sb_euc_sim  use_cos_sim  use_man_sim  use_euc_sim  \n",
       "0        0.049302    0.974596     0.565140     0.056495     0.517441  \n",
       "1        0.024686    0.516216     0.492656     0.053085     0.498177  \n",
       "2        0.024778    0.518206     0.109520     0.039940     0.428352  \n",
       "3        0.028768    0.590299     0.064168     0.037872     0.422282  \n",
       "4        0.042740    0.872217     0.790833     0.082210     0.607243  \n",
       "...           ...         ...          ...          ...          ...  \n",
       "99995    0.030861    0.635260    -0.054984     0.035581     0.407735  \n",
       "99996    0.043191    0.874272     0.770271     0.080059     0.596007  \n",
       "99997    0.024452    0.515358     0.046242     0.037493     0.419969  \n",
       "99998    0.027039    0.567456    -0.039541     0.036161     0.409517  \n",
       "99999    0.026435    0.544166     0.215895     0.042053     0.443994  \n",
       "\n",
       "[100000 rows x 11 columns]"
      ]
     },
     "execution_count": 29,
     "metadata": {},
     "output_type": "execute_result"
    }
   ],
   "source": [
    "sof_concat_df"
   ]
  },
  {
   "cell_type": "code",
   "execution_count": 30,
   "metadata": {},
   "outputs": [
    {
     "name": "stderr",
     "output_type": "stream",
     "text": [
      "d:\\jupyter\\big data\\project\\spark-test\\venv_tf_1\\lib\\site-packages\\ipykernel_launcher.py:1: UserWarning: \n",
      "\n",
      "`distplot` is a deprecated function and will be removed in seaborn v0.14.0.\n",
      "\n",
      "Please adapt your code to use either `displot` (a figure-level function with\n",
      "similar flexibility) or `histplot` (an axes-level function for histograms).\n",
      "\n",
      "For a guide to updating your code to use the new functions, please see\n",
      "https://gist.github.com/mwaskom/de44147ed2974457ad6372750bbe5751\n",
      "\n",
      "  \"\"\"Entry point for launching an IPython kernel.\n",
      "d:\\jupyter\\big data\\project\\spark-test\\venv_tf_1\\lib\\site-packages\\ipykernel_launcher.py:2: UserWarning: \n",
      "\n",
      "`distplot` is a deprecated function and will be removed in seaborn v0.14.0.\n",
      "\n",
      "Please adapt your code to use either `displot` (a figure-level function with\n",
      "similar flexibility) or `histplot` (an axes-level function for histograms).\n",
      "\n",
      "For a guide to updating your code to use the new functions, please see\n",
      "https://gist.github.com/mwaskom/de44147ed2974457ad6372750bbe5751\n",
      "\n",
      "  \n"
     ]
    },
    {
     "data": {
      "image/png": "[encoded data removed]",
      "text/plain": [
       "<Figure size 640x480 with 1 Axes>"
      ]
     },
     "metadata": {},
     "output_type": "display_data"
    }
   ],
   "source": [
    "sns.distplot(sof_concat_df[sof_concat_df['is_duplicate'] == 1]['use_cos_sim'][0:] , label = \"1\", color = 'red')\n",
    "sns.distplot(sof_concat_df[sof_concat_df['is_duplicate'] == 0]['use_cos_sim'][0:] , label = \"0\" , color = 'blue' )\n",
    "plt.show()"
   ]
  },
  {
   "cell_type": "code",
   "execution_count": 31,
   "metadata": {},
   "outputs": [
    {
     "name": "stderr",
     "output_type": "stream",
     "text": [
      "d:\\jupyter\\big data\\project\\spark-test\\venv_tf_1\\lib\\site-packages\\ipykernel_launcher.py:1: UserWarning: \n",
      "\n",
      "`distplot` is a deprecated function and will be removed in seaborn v0.14.0.\n",
      "\n",
      "Please adapt your code to use either `displot` (a figure-level function with\n",
      "similar flexibility) or `histplot` (an axes-level function for histograms).\n",
      "\n",
      "For a guide to updating your code to use the new functions, please see\n",
      "https://gist.github.com/mwaskom/de44147ed2974457ad6372750bbe5751\n",
      "\n",
      "  \"\"\"Entry point for launching an IPython kernel.\n",
      "d:\\jupyter\\big data\\project\\spark-test\\venv_tf_1\\lib\\site-packages\\ipykernel_launcher.py:2: UserWarning: \n",
      "\n",
      "`distplot` is a deprecated function and will be removed in seaborn v0.14.0.\n",
      "\n",
      "Please adapt your code to use either `displot` (a figure-level function with\n",
      "similar flexibility) or `histplot` (an axes-level function for histograms).\n",
      "\n",
      "For a guide to updating your code to use the new functions, please see\n",
      "https://gist.github.com/mwaskom/de44147ed2974457ad6372750bbe5751\n",
      "\n",
      "  \n"
     ]
    },
    {
     "data": {
      "image/png": "[encoded data removed]",
      "text/plain": [
       "<Figure size 640x480 with 1 Axes>"
      ]
     },
     "metadata": {},
     "output_type": "display_data"
    }
   ],
   "source": [
    "sns.distplot(sof_concat_df[sof_concat_df['is_duplicate'] == 1]['use_man_sim'][0:] , label = \"1\", color = 'red')\n",
    "sns.distplot(sof_concat_df[sof_concat_df['is_duplicate'] == 0]['use_man_sim'][0:] , label = \"0\" , color = 'blue' )\n",
    "plt.show()"
   ]
  },
  {
   "cell_type": "code",
   "execution_count": 32,
   "metadata": {},
   "outputs": [
    {
     "name": "stderr",
     "output_type": "stream",
     "text": [
      "d:\\jupyter\\big data\\project\\spark-test\\venv_tf_1\\lib\\site-packages\\ipykernel_launcher.py:1: UserWarning: \n",
      "\n",
      "`distplot` is a deprecated function and will be removed in seaborn v0.14.0.\n",
      "\n",
      "Please adapt your code to use either `displot` (a figure-level function with\n",
      "similar flexibility) or `histplot` (an axes-level function for histograms).\n",
      "\n",
      "For a guide to updating your code to use the new functions, please see\n",
      "https://gist.github.com/mwaskom/de44147ed2974457ad6372750bbe5751\n",
      "\n",
      "  \"\"\"Entry point for launching an IPython kernel.\n",
      "d:\\jupyter\\big data\\project\\spark-test\\venv_tf_1\\lib\\site-packages\\ipykernel_launcher.py:2: UserWarning: \n",
      "\n",
      "`distplot` is a deprecated function and will be removed in seaborn v0.14.0.\n",
      "\n",
      "Please adapt your code to use either `displot` (a figure-level function with\n",
      "similar flexibility) or `histplot` (an axes-level function for histograms).\n",
      "\n",
      "For a guide to updating your code to use the new functions, please see\n",
      "https://gist.github.com/mwaskom/de44147ed2974457ad6372750bbe5751\n",
      "\n",
      "  \n"
     ]
    },
    {
     "data": {
      "image/png": "[encoded data removed]",
      "text/plain": [
       "<Figure size 640x480 with 1 Axes>"
      ]
     },
     "metadata": {},
     "output_type": "display_data"
    }
   ],
   "source": [
    "sns.distplot(sof_concat_df[sof_concat_df['is_duplicate'] == 1]['use_euc_sim'][0:] , label = \"1\", color = 'red')\n",
    "sns.distplot(sof_concat_df[sof_concat_df['is_duplicate'] == 0]['use_euc_sim'][0:] , label = \"0\" , color = 'blue' )\n",
    "plt.show()"
   ]
  },
  {
   "cell_type": "markdown",
   "metadata": {},
   "source": [
    "# Feature Engineering"
   ]
  },
  {
   "cell_type": "markdown",
   "metadata": {},
   "source": [
    "Number of common tokens to total word count\n",
    "sorted string fuzzy ratio"
   ]
  },
  {
   "cell_type": "code",
   "execution_count": 33,
   "metadata": {},
   "outputs": [
    {
     "name": "stderr",
     "output_type": "stream",
     "text": [
      "d:\\jupyter\\big data\\project\\spark-test\\venv_tf_1\\lib\\site-packages\\fuzzywuzzy\\fuzz.py:11: UserWarning: Using slow pure-python SequenceMatcher. Install python-Levenshtein to remove this warning\n",
      "  warnings.warn('Using slow pure-python SequenceMatcher. Install python-Levenshtein to remove this warning')\n"
     ]
    }
   ],
   "source": [
    "from fuzzywuzzy import fuzz"
   ]
  },
  {
   "cell_type": "code",
   "execution_count": 34,
   "metadata": {},
   "outputs": [],
   "source": [
    "def lower_list(tokens):\n",
    "    return [t.lower() for t in tokens]"
   ]
  },
  {
   "cell_type": "code",
   "execution_count": 35,
   "metadata": {},
   "outputs": [],
   "source": [
    "import string"
   ]
  },
  {
   "cell_type": "code",
   "execution_count": null,
   "metadata": {},
   "outputs": [],
   "source": [
    "alphanum_dict = dict(zip(string.ascii_lowercase+string.digits, [0]*36))"
   ]
  },
  {
   "cell_type": "code",
   "execution_count": null,
   "metadata": {},
   "outputs": [],
   "source": [
    "def compare_character_count(q1,q2):\n",
    "    alphanum_dict_q1 = dict(zip(string.ascii_lowercase+string.digits, [0]*36))\n",
    "    alphanum_dict_q2 = dict(zip(string.ascii_lowercase+string.digits, [0]*36))\n",
    "    for l in q1:\n",
    "        if l in alphanum_dict_q1:\n",
    "            alphanum_dict_q1[l]+=1\n",
    "            \n",
    "    for l in q2:\n",
    "        if l in alphanum_dict_q2:\n",
    "            alphanum_dict_q2[l]+=1\n",
    "    \n",
    "    ratio_sum = 0\n",
    "    for c in string.ascii_lowercase+string.digits:\n",
    "        if alphanum_dict_q1[c]>0 and alphanum_dict_q2[c]>0:\n",
    "            if len(q1)<=len(q2):\n",
    "                ratio_sum = ratio_sum + (alphanum_dict_q1[c]/alphanum_dict_q2[c])\n",
    "            else:\n",
    "                ratio_sum = ratio_sum + (alphanum_dict_q2[c]/alphanum_dict_q1[c])\n",
    "                \n",
    "    return ratio_sum/36"
   ]
  },
  {
   "cell_type": "code",
   "execution_count": null,
   "metadata": {},
   "outputs": [],
   "source": [
    "def gen_char_ratio(q1,q2):\n",
    "    return len((set(q1)&set(q2)))/len((set(q1)|set(q2)))"
   ]
  },
  {
   "cell_type": "code",
   "execution_count": null,
   "metadata": {},
   "outputs": [],
   "source": [
    "abs(len(\"aadvsdv\") - len(\"dvs\"))"
   ]
  },
  {
   "cell_type": "code",
   "execution_count": 36,
   "metadata": {},
   "outputs": [
    {
     "name": "stderr",
     "output_type": "stream",
     "text": [
      "100000it [00:10, 9610.59it/s]\n"
     ]
    }
   ],
   "source": [
    "common_word_count_ratio = []\n",
    "sorted_fuzzy_ratio = []\n",
    "abs_len_diff = []\n",
    "char_ratio_sum = []\n",
    "char_iou = []\n",
    "for q1_tokens,q2_tokens in tqdm(zip(list(sof_concat_df[\"question1_cleaned\"]),list(sof_concat_df[\"question2_cleaned\"]))):\n",
    "    q1_tokens = lower_list(q1_tokens)\n",
    "    q2_tokens = lower_list(q2_tokens)\n",
    "    \n",
    "    tot_count = len(q1_tokens) + len(q2_tokens)\n",
    "    common_count = (len(set(q1_tokens).intersection(set(q2_tokens))))\n",
    "    common_word_count_ratio.append(common_count/tot_count)\n",
    "    \n",
    "    sorted_q1 = ' '.join(sorted(q1_tokens))\n",
    "    sorted_q2 = ' '.join(sorted(q2_tokens))\n",
    "    \n",
    "#     abs_len_diff.append(abs(len(sorted_q1) - len(sorted_q2)))\n",
    "    sorted_fuzzy_ratio.append(fuzz.ratio(sorted_q1,sorted_q2))\n",
    "#     char_ratio_sum.append(compare_character_count(sorted_q1,sorted_q2))\n",
    "#     char_iou.append(gen_char_ratio(sorted_q1,sorted_q2))\n",
    "\n",
    "sof_concat_df[\"common_word_count_ratio\"] = common_word_count_ratio\n",
    "sof_concat_df[\"sorted_fuzzy_ratio\"] = sorted_fuzzy_ratio\n",
    "# sof_concat_df[\"abs_len_diff\"] = abs_len_diff\n",
    "# sof_concat_df[\"char_ratio_sum\"] = char_ratio_sum\n",
    "# sof_concat_df[\"char_iou\"] = char_iou\n"
   ]
  },
  {
   "cell_type": "code",
   "execution_count": 37,
   "metadata": {
    "scrolled": true
   },
   "outputs": [
    {
     "data": {
      "text/html": [
       "<div>\n",
       "<style scoped>\n",
       "    .dataframe tbody tr th:only-of-type {\n",
       "        vertical-align: middle;\n",
       "    }\n",
       "\n",
       "    .dataframe tbody tr th {\n",
       "        vertical-align: top;\n",
       "    }\n",
       "\n",
       "    .dataframe thead th {\n",
       "        text-align: right;\n",
       "    }\n",
       "</style>\n",
       "<table border=\"1\" class=\"dataframe\">\n",
       "  <thead>\n",
       "    <tr style=\"text-align: right;\">\n",
       "      <th></th>\n",
       "      <th>question1</th>\n",
       "      <th>question2</th>\n",
       "      <th>is_duplicate</th>\n",
       "      <th>question1_cleaned</th>\n",
       "      <th>question2_cleaned</th>\n",
       "      <th>sb_cos_sim</th>\n",
       "      <th>sb_man_sim</th>\n",
       "      <th>sb_euc_sim</th>\n",
       "      <th>use_cos_sim</th>\n",
       "      <th>use_man_sim</th>\n",
       "      <th>use_euc_sim</th>\n",
       "      <th>common_word_count_ratio</th>\n",
       "      <th>sorted_fuzzy_ratio</th>\n",
       "    </tr>\n",
       "  </thead>\n",
       "  <tbody>\n",
       "    <tr>\n",
       "      <th>0</th>\n",
       "      <td>standalone parentheses in javascript</td>\n",
       "      <td>A Javascript function</td>\n",
       "      <td>1</td>\n",
       "      <td>[standalone, parenthesis, javascript]</td>\n",
       "      <td>[javascript, function]</td>\n",
       "      <td>0.848738</td>\n",
       "      <td>0.049302</td>\n",
       "      <td>0.974596</td>\n",
       "      <td>0.565140</td>\n",
       "      <td>0.056495</td>\n",
       "      <td>0.517441</td>\n",
       "      <td>0.200000</td>\n",
       "      <td>38</td>\n",
       "    </tr>\n",
       "    <tr>\n",
       "      <th>1</th>\n",
       "      <td>See if a Radio button is checked that isn't in...</td>\n",
       "      <td>How to get VALUE from FORM without Submitting it?</td>\n",
       "      <td>1</td>\n",
       "      <td>[see, radio, button, check, be, not, inside, f...</td>\n",
       "      <td>[how, get, value, form, without, submit]</td>\n",
       "      <td>0.338827</td>\n",
       "      <td>0.024686</td>\n",
       "      <td>0.516216</td>\n",
       "      <td>0.492656</td>\n",
       "      <td>0.053085</td>\n",
       "      <td>0.498177</td>\n",
       "      <td>0.062500</td>\n",
       "      <td>24</td>\n",
       "    </tr>\n",
       "    <tr>\n",
       "      <th>2</th>\n",
       "      <td>Pagination and .htaccess</td>\n",
       "      <td>J2ME/Blackberry - how to read/write text file?</td>\n",
       "      <td>0</td>\n",
       "      <td>[pagination, htaccess]</td>\n",
       "      <td>[j2meblackberry, how, readwrite, text, file]</td>\n",
       "      <td>0.371934</td>\n",
       "      <td>0.024778</td>\n",
       "      <td>0.518206</td>\n",
       "      <td>0.109520</td>\n",
       "      <td>0.039940</td>\n",
       "      <td>0.428352</td>\n",
       "      <td>0.000000</td>\n",
       "      <td>28</td>\n",
       "    </tr>\n",
       "    <tr>\n",
       "      <th>3</th>\n",
       "      <td>A Windows equivalent of the Unix tail command</td>\n",
       "      <td>How will you categorise the various software t...</td>\n",
       "      <td>0</td>\n",
       "      <td>[window, equivalent, unix, tail, command]</td>\n",
       "      <td>[how, categorise, various, software, testing, ...</td>\n",
       "      <td>0.538113</td>\n",
       "      <td>0.028768</td>\n",
       "      <td>0.590299</td>\n",
       "      <td>0.064168</td>\n",
       "      <td>0.037872</td>\n",
       "      <td>0.422282</td>\n",
       "      <td>0.000000</td>\n",
       "      <td>27</td>\n",
       "    </tr>\n",
       "    <tr>\n",
       "      <th>4</th>\n",
       "      <td>Solr 4.1 Core Initialization Failure</td>\n",
       "      <td>Solr RequestHandler init failure</td>\n",
       "      <td>1</td>\n",
       "      <td>[solr, 41, core, initialization, failure]</td>\n",
       "      <td>[solr, requesthandler, init, failure]</td>\n",
       "      <td>0.791258</td>\n",
       "      <td>0.042740</td>\n",
       "      <td>0.872217</td>\n",
       "      <td>0.790833</td>\n",
       "      <td>0.082210</td>\n",
       "      <td>0.607243</td>\n",
       "      <td>0.222222</td>\n",
       "      <td>57</td>\n",
       "    </tr>\n",
       "    <tr>\n",
       "      <th>...</th>\n",
       "      <td>...</td>\n",
       "      <td>...</td>\n",
       "      <td>...</td>\n",
       "      <td>...</td>\n",
       "      <td>...</td>\n",
       "      <td>...</td>\n",
       "      <td>...</td>\n",
       "      <td>...</td>\n",
       "      <td>...</td>\n",
       "      <td>...</td>\n",
       "      <td>...</td>\n",
       "      <td>...</td>\n",
       "      <td>...</td>\n",
       "    </tr>\n",
       "    <tr>\n",
       "      <th>99995</th>\n",
       "      <td>PHP Maths Equation Function</td>\n",
       "      <td>SGEN, InternalsVisibleTo and assembly signing</td>\n",
       "      <td>0</td>\n",
       "      <td>[php, maths, equation, function]</td>\n",
       "      <td>[sgen, internalsvisibleto, assembly, signing]</td>\n",
       "      <td>0.588093</td>\n",
       "      <td>0.030861</td>\n",
       "      <td>0.635260</td>\n",
       "      <td>-0.054984</td>\n",
       "      <td>0.035581</td>\n",
       "      <td>0.407735</td>\n",
       "      <td>0.000000</td>\n",
       "      <td>27</td>\n",
       "    </tr>\n",
       "    <tr>\n",
       "      <th>99996</th>\n",
       "      <td>How can I check if all the elements of an Arra...</td>\n",
       "      <td>Java all determine elements are same in a list</td>\n",
       "      <td>1</td>\n",
       "      <td>[how, check, element, arraylist, java]</td>\n",
       "      <td>[java, determine, element, list]</td>\n",
       "      <td>0.796350</td>\n",
       "      <td>0.043191</td>\n",
       "      <td>0.874272</td>\n",
       "      <td>0.770271</td>\n",
       "      <td>0.080059</td>\n",
       "      <td>0.596007</td>\n",
       "      <td>0.222222</td>\n",
       "      <td>54</td>\n",
       "    </tr>\n",
       "    <tr>\n",
       "      <th>99997</th>\n",
       "      <td>Is there a way to import a 3D model into Android?</td>\n",
       "      <td>General way to reset a member variable to its ...</td>\n",
       "      <td>0</td>\n",
       "      <td>[way, import, 3d, model, android]</td>\n",
       "      <td>[general, way, reset, member, variable, origin...</td>\n",
       "      <td>0.366446</td>\n",
       "      <td>0.024452</td>\n",
       "      <td>0.515358</td>\n",
       "      <td>0.046242</td>\n",
       "      <td>0.037493</td>\n",
       "      <td>0.419969</td>\n",
       "      <td>0.071429</td>\n",
       "      <td>31</td>\n",
       "    </tr>\n",
       "    <tr>\n",
       "      <th>99998</th>\n",
       "      <td>How to remove a wpf element on a canvas by it'...</td>\n",
       "      <td>Sign in form and register form</td>\n",
       "      <td>0</td>\n",
       "      <td>[how, remove, wpf, element, canvas, tag, name]</td>\n",
       "      <td>[sign, form, register, form]</td>\n",
       "      <td>0.478150</td>\n",
       "      <td>0.027039</td>\n",
       "      <td>0.567456</td>\n",
       "      <td>-0.039541</td>\n",
       "      <td>0.036161</td>\n",
       "      <td>0.409517</td>\n",
       "      <td>0.000000</td>\n",
       "      <td>26</td>\n",
       "    </tr>\n",
       "    <tr>\n",
       "      <th>99999</th>\n",
       "      <td>Syntax highlighting in Visual Web Developer 20...</td>\n",
       "      <td>Expectations on Partial Mock - NullReference E...</td>\n",
       "      <td>0</td>\n",
       "      <td>[syntax, highlight, visual, web, developer, 20...</td>\n",
       "      <td>[expectation, partial, mock, nullreference, ex...</td>\n",
       "      <td>0.406255</td>\n",
       "      <td>0.026435</td>\n",
       "      <td>0.544166</td>\n",
       "      <td>0.215895</td>\n",
       "      <td>0.042053</td>\n",
       "      <td>0.443994</td>\n",
       "      <td>0.000000</td>\n",
       "      <td>26</td>\n",
       "    </tr>\n",
       "  </tbody>\n",
       "</table>\n",
       "<p>100000 rows × 13 columns</p>\n",
       "</div>"
      ],
      "text/plain": [
       "                                               question1  \\\n",
       "0                   standalone parentheses in javascript   \n",
       "1      See if a Radio button is checked that isn't in...   \n",
       "2                               Pagination and .htaccess   \n",
       "3          A Windows equivalent of the Unix tail command   \n",
       "4                   Solr 4.1 Core Initialization Failure   \n",
       "...                                                  ...   \n",
       "99995                        PHP Maths Equation Function   \n",
       "99996  How can I check if all the elements of an Arra...   \n",
       "99997  Is there a way to import a 3D model into Android?   \n",
       "99998  How to remove a wpf element on a canvas by it'...   \n",
       "99999  Syntax highlighting in Visual Web Developer 20...   \n",
       "\n",
       "                                               question2  is_duplicate  \\\n",
       "0                                  A Javascript function             1   \n",
       "1      How to get VALUE from FORM without Submitting it?             1   \n",
       "2         J2ME/Blackberry - how to read/write text file?             0   \n",
       "3      How will you categorise the various software t...             0   \n",
       "4                       Solr RequestHandler init failure             1   \n",
       "...                                                  ...           ...   \n",
       "99995      SGEN, InternalsVisibleTo and assembly signing             0   \n",
       "99996     Java all determine elements are same in a list             1   \n",
       "99997  General way to reset a member variable to its ...             0   \n",
       "99998                     Sign in form and register form             0   \n",
       "99999  Expectations on Partial Mock - NullReference E...             0   \n",
       "\n",
       "                                       question1_cleaned  \\\n",
       "0                  [standalone, parenthesis, javascript]   \n",
       "1      [see, radio, button, check, be, not, inside, f...   \n",
       "2                                 [pagination, htaccess]   \n",
       "3              [window, equivalent, unix, tail, command]   \n",
       "4              [solr, 41, core, initialization, failure]   \n",
       "...                                                  ...   \n",
       "99995                   [php, maths, equation, function]   \n",
       "99996             [how, check, element, arraylist, java]   \n",
       "99997                  [way, import, 3d, model, android]   \n",
       "99998     [how, remove, wpf, element, canvas, tag, name]   \n",
       "99999  [syntax, highlight, visual, web, developer, 20...   \n",
       "\n",
       "                                       question2_cleaned  sb_cos_sim  \\\n",
       "0                                 [javascript, function]    0.848738   \n",
       "1               [how, get, value, form, without, submit]    0.338827   \n",
       "2           [j2meblackberry, how, readwrite, text, file]    0.371934   \n",
       "3      [how, categorise, various, software, testing, ...    0.538113   \n",
       "4                  [solr, requesthandler, init, failure]    0.791258   \n",
       "...                                                  ...         ...   \n",
       "99995      [sgen, internalsvisibleto, assembly, signing]    0.588093   \n",
       "99996                   [java, determine, element, list]    0.796350   \n",
       "99997  [general, way, reset, member, variable, origin...    0.366446   \n",
       "99998                       [sign, form, register, form]    0.478150   \n",
       "99999  [expectation, partial, mock, nullreference, ex...    0.406255   \n",
       "\n",
       "       sb_man_sim  sb_euc_sim  use_cos_sim  use_man_sim  use_euc_sim  \\\n",
       "0        0.049302    0.974596     0.565140     0.056495     0.517441   \n",
       "1        0.024686    0.516216     0.492656     0.053085     0.498177   \n",
       "2        0.024778    0.518206     0.109520     0.039940     0.428352   \n",
       "3        0.028768    0.590299     0.064168     0.037872     0.422282   \n",
       "4        0.042740    0.872217     0.790833     0.082210     0.607243   \n",
       "...           ...         ...          ...          ...          ...   \n",
       "99995    0.030861    0.635260    -0.054984     0.035581     0.407735   \n",
       "99996    0.043191    0.874272     0.770271     0.080059     0.596007   \n",
       "99997    0.024452    0.515358     0.046242     0.037493     0.419969   \n",
       "99998    0.027039    0.567456    -0.039541     0.036161     0.409517   \n",
       "99999    0.026435    0.544166     0.215895     0.042053     0.443994   \n",
       "\n",
       "       common_word_count_ratio  sorted_fuzzy_ratio  \n",
       "0                     0.200000                  38  \n",
       "1                     0.062500                  24  \n",
       "2                     0.000000                  28  \n",
       "3                     0.000000                  27  \n",
       "4                     0.222222                  57  \n",
       "...                        ...                 ...  \n",
       "99995                 0.000000                  27  \n",
       "99996                 0.222222                  54  \n",
       "99997                 0.071429                  31  \n",
       "99998                 0.000000                  26  \n",
       "99999                 0.000000                  26  \n",
       "\n",
       "[100000 rows x 13 columns]"
      ]
     },
     "execution_count": 37,
     "metadata": {},
     "output_type": "execute_result"
    }
   ],
   "source": [
    "sof_concat_df"
   ]
  },
  {
   "cell_type": "code",
   "execution_count": 38,
   "metadata": {},
   "outputs": [
    {
     "name": "stderr",
     "output_type": "stream",
     "text": [
      "d:\\jupyter\\big data\\project\\spark-test\\venv_tf_1\\lib\\site-packages\\ipykernel_launcher.py:1: UserWarning: \n",
      "\n",
      "`distplot` is a deprecated function and will be removed in seaborn v0.14.0.\n",
      "\n",
      "Please adapt your code to use either `displot` (a figure-level function with\n",
      "similar flexibility) or `histplot` (an axes-level function for histograms).\n",
      "\n",
      "For a guide to updating your code to use the new functions, please see\n",
      "https://gist.github.com/mwaskom/de44147ed2974457ad6372750bbe5751\n",
      "\n",
      "  \"\"\"Entry point for launching an IPython kernel.\n",
      "d:\\jupyter\\big data\\project\\spark-test\\venv_tf_1\\lib\\site-packages\\ipykernel_launcher.py:2: UserWarning: \n",
      "\n",
      "`distplot` is a deprecated function and will be removed in seaborn v0.14.0.\n",
      "\n",
      "Please adapt your code to use either `displot` (a figure-level function with\n",
      "similar flexibility) or `histplot` (an axes-level function for histograms).\n",
      "\n",
      "For a guide to updating your code to use the new functions, please see\n",
      "https://gist.github.com/mwaskom/de44147ed2974457ad6372750bbe5751\n",
      "\n",
      "  \n"
     ]
    },
    {
     "data": {
      "image/png": "[encoded data removed]",
      "text/plain": [
       "<Figure size 640x480 with 1 Axes>"
      ]
     },
     "metadata": {},
     "output_type": "display_data"
    }
   ],
   "source": [
    "sns.distplot(sof_concat_df[sof_concat_df['is_duplicate'] == 1]['common_word_count_ratio'][0:] , label = \"1\", color = 'red')\n",
    "sns.distplot(sof_concat_df[sof_concat_df['is_duplicate'] == 0]['common_word_count_ratio'][0:] , label = \"0\" , color = 'blue' )\n",
    "plt.show()"
   ]
  },
  {
   "cell_type": "code",
   "execution_count": 39,
   "metadata": {},
   "outputs": [
    {
     "name": "stderr",
     "output_type": "stream",
     "text": [
      "d:\\jupyter\\big data\\project\\spark-test\\venv_tf_1\\lib\\site-packages\\ipykernel_launcher.py:1: UserWarning: \n",
      "\n",
      "`distplot` is a deprecated function and will be removed in seaborn v0.14.0.\n",
      "\n",
      "Please adapt your code to use either `displot` (a figure-level function with\n",
      "similar flexibility) or `histplot` (an axes-level function for histograms).\n",
      "\n",
      "For a guide to updating your code to use the new functions, please see\n",
      "https://gist.github.com/mwaskom/de44147ed2974457ad6372750bbe5751\n",
      "\n",
      "  \"\"\"Entry point for launching an IPython kernel.\n",
      "d:\\jupyter\\big data\\project\\spark-test\\venv_tf_1\\lib\\site-packages\\ipykernel_launcher.py:2: UserWarning: \n",
      "\n",
      "`distplot` is a deprecated function and will be removed in seaborn v0.14.0.\n",
      "\n",
      "Please adapt your code to use either `displot` (a figure-level function with\n",
      "similar flexibility) or `histplot` (an axes-level function for histograms).\n",
      "\n",
      "For a guide to updating your code to use the new functions, please see\n",
      "https://gist.github.com/mwaskom/de44147ed2974457ad6372750bbe5751\n",
      "\n",
      "  \n"
     ]
    },
    {
     "data": {
      "image/png": "[encoded data removed]",
      "text/plain": [
       "<Figure size 640x480 with 1 Axes>"
      ]
     },
     "metadata": {},
     "output_type": "display_data"
    }
   ],
   "source": [
    "sns.distplot(sof_concat_df[sof_concat_df['is_duplicate'] == 1]['sorted_fuzzy_ratio'][0:] , label = \"1\", color = 'red')\n",
    "sns.distplot(sof_concat_df[sof_concat_df['is_duplicate'] == 0]['sorted_fuzzy_ratio'][0:] , label = \"0\" , color = 'blue' )\n",
    "plt.show()"
   ]
  },
  {
   "cell_type": "code",
   "execution_count": null,
   "metadata": {},
   "outputs": [],
   "source": [
    "sns.distplot(sof_concat_df[sof_concat_df['is_duplicate'] == 1]['abs_len_diff'][0:] , label = \"1\", color = 'red')\n",
    "sns.distplot(sof_concat_df[sof_concat_df['is_duplicate'] == 0]['abs_len_diff'][0:] , label = \"0\" , color = 'blue' )\n",
    "plt.show()"
   ]
  },
  {
   "cell_type": "code",
   "execution_count": null,
   "metadata": {},
   "outputs": [],
   "source": [
    "sns.distplot(sof_concat_df[sof_concat_df['is_duplicate'] == 1]['char_ratio_sum'][0:] , label = \"1\", color = 'red')\n",
    "sns.distplot(sof_concat_df[sof_concat_df['is_duplicate'] == 0]['char_ratio_sum'][0:] , label = \"0\" , color = 'blue' )\n",
    "plt.show()"
   ]
  },
  {
   "cell_type": "code",
   "execution_count": null,
   "metadata": {},
   "outputs": [],
   "source": [
    "sns.distplot(sof_concat_df[sof_concat_df['is_duplicate'] == 1]['char_iou'][0:] , label = \"1\", color = 'red')\n",
    "sns.distplot(sof_concat_df[sof_concat_df['is_duplicate'] == 0]['char_iou'][0:] , label = \"0\" , color = 'blue' )\n",
    "plt.show()"
   ]
  },
  {
   "cell_type": "code",
   "execution_count": 109,
   "metadata": {},
   "outputs": [
    {
     "data": {
      "text/html": [
       "<div>\n",
       "<style scoped>\n",
       "    .dataframe tbody tr th:only-of-type {\n",
       "        vertical-align: middle;\n",
       "    }\n",
       "\n",
       "    .dataframe tbody tr th {\n",
       "        vertical-align: top;\n",
       "    }\n",
       "\n",
       "    .dataframe thead th {\n",
       "        text-align: right;\n",
       "    }\n",
       "</style>\n",
       "<table border=\"1\" class=\"dataframe\">\n",
       "  <thead>\n",
       "    <tr style=\"text-align: right;\">\n",
       "      <th></th>\n",
       "      <th>question1</th>\n",
       "      <th>question2</th>\n",
       "      <th>is_duplicate</th>\n",
       "      <th>question1_cleaned</th>\n",
       "      <th>question2_cleaned</th>\n",
       "      <th>sb_cos_sim</th>\n",
       "      <th>sb_man_sim</th>\n",
       "      <th>sb_euc_sim</th>\n",
       "      <th>use_cos_sim</th>\n",
       "      <th>use_man_sim</th>\n",
       "      <th>use_euc_sim</th>\n",
       "      <th>common_word_count_ratio</th>\n",
       "      <th>sorted_fuzzy_ratio</th>\n",
       "    </tr>\n",
       "  </thead>\n",
       "  <tbody>\n",
       "    <tr>\n",
       "      <th>0</th>\n",
       "      <td>How To Properly Create Domain using Zend Frame...</td>\n",
       "      <td>Add records from external ruby script</td>\n",
       "      <td>0</td>\n",
       "      <td>[how, properly, create, domain, use, zend, fra...</td>\n",
       "      <td>[add, record, external, ruby, script]</td>\n",
       "      <td>0.450274</td>\n",
       "      <td>0.026406</td>\n",
       "      <td>0.548539</td>\n",
       "      <td>0.348263</td>\n",
       "      <td>0.046645</td>\n",
       "      <td>0.466919</td>\n",
       "      <td>0.000000</td>\n",
       "      <td>8</td>\n",
       "    </tr>\n",
       "    <tr>\n",
       "      <th>1</th>\n",
       "      <td>strange Fatal error: Cannot redeclare class pa...</td>\n",
       "      <td>PHP Fatal error: Cannot redeclare class</td>\n",
       "      <td>1</td>\n",
       "      <td>[strange, fatal, error, can, not, redeclare, c...</td>\n",
       "      <td>[php, fatal, error, can, not, redeclare, class]</td>\n",
       "      <td>0.764689</td>\n",
       "      <td>0.041130</td>\n",
       "      <td>0.833274</td>\n",
       "      <td>0.750127</td>\n",
       "      <td>0.074904</td>\n",
       "      <td>0.585848</td>\n",
       "      <td>0.200000</td>\n",
       "      <td>82</td>\n",
       "    </tr>\n",
       "    <tr>\n",
       "      <th>2</th>\n",
       "      <td>Fuzzy substring search in O(N log N)</td>\n",
       "      <td>Fastest way to find minimal Hamming distance t...</td>\n",
       "      <td>1</td>\n",
       "      <td>[fuzzy, substring, search, log, n]</td>\n",
       "      <td>[fast, way, find, minimal, hamming, distance, ...</td>\n",
       "      <td>0.483319</td>\n",
       "      <td>0.027673</td>\n",
       "      <td>0.579418</td>\n",
       "      <td>0.582151</td>\n",
       "      <td>0.057934</td>\n",
       "      <td>0.522421</td>\n",
       "      <td>0.041667</td>\n",
       "      <td>42</td>\n",
       "    </tr>\n",
       "    <tr>\n",
       "      <th>3</th>\n",
       "      <td>How to install CodeRush Xpress on VS2005</td>\n",
       "      <td>How do I find out how much free memory is left...</td>\n",
       "      <td>0</td>\n",
       "      <td>[how, install, coderush, xpress, vs2005]</td>\n",
       "      <td>[how, find, how, much, free, memory, leave, gn...</td>\n",
       "      <td>0.548876</td>\n",
       "      <td>0.030009</td>\n",
       "      <td>0.625877</td>\n",
       "      <td>0.350268</td>\n",
       "      <td>0.046742</td>\n",
       "      <td>0.467303</td>\n",
       "      <td>0.033333</td>\n",
       "      <td>32</td>\n",
       "    </tr>\n",
       "    <tr>\n",
       "      <th>4</th>\n",
       "      <td>Add tooltip programmatically on asp.net web page</td>\n",
       "      <td>tooltips for Button</td>\n",
       "      <td>1</td>\n",
       "      <td>[add, tooltip, programmatically, aspnet, web, ...</td>\n",
       "      <td>[tooltip, button]</td>\n",
       "      <td>0.655901</td>\n",
       "      <td>0.033523</td>\n",
       "      <td>0.687599</td>\n",
       "      <td>0.485400</td>\n",
       "      <td>0.053052</td>\n",
       "      <td>0.496402</td>\n",
       "      <td>0.062500</td>\n",
       "      <td>31</td>\n",
       "    </tr>\n",
       "    <tr>\n",
       "      <th>...</th>\n",
       "      <td>...</td>\n",
       "      <td>...</td>\n",
       "      <td>...</td>\n",
       "      <td>...</td>\n",
       "      <td>...</td>\n",
       "      <td>...</td>\n",
       "      <td>...</td>\n",
       "      <td>...</td>\n",
       "      <td>...</td>\n",
       "      <td>...</td>\n",
       "      <td>...</td>\n",
       "      <td>...</td>\n",
       "      <td>...</td>\n",
       "    </tr>\n",
       "    <tr>\n",
       "      <th>1995</th>\n",
       "      <td>Tools, Visual Studio Setting to check uninitia...</td>\n",
       "      <td>detect current tab</td>\n",
       "      <td>0</td>\n",
       "      <td>[tool, visual, studio, set, check, uninitializ...</td>\n",
       "      <td>[detect, current, tab]</td>\n",
       "      <td>0.431152</td>\n",
       "      <td>0.025803</td>\n",
       "      <td>0.537416</td>\n",
       "      <td>0.203009</td>\n",
       "      <td>0.041528</td>\n",
       "      <td>0.441983</td>\n",
       "      <td>0.000000</td>\n",
       "      <td>19</td>\n",
       "    </tr>\n",
       "    <tr>\n",
       "      <th>1996</th>\n",
       "      <td>How do I parse a string to a float or int?</td>\n",
       "      <td>In .aspx, how to pass a value from asp:Repeate...</td>\n",
       "      <td>0</td>\n",
       "      <td>[how, parse, string, float, int]</td>\n",
       "      <td>[aspx, how, pass, value, asprepeater, code, be...</td>\n",
       "      <td>0.682714</td>\n",
       "      <td>0.035912</td>\n",
       "      <td>0.746682</td>\n",
       "      <td>0.431513</td>\n",
       "      <td>0.049283</td>\n",
       "      <td>0.483959</td>\n",
       "      <td>0.038462</td>\n",
       "      <td>28</td>\n",
       "    </tr>\n",
       "    <tr>\n",
       "      <th>1997</th>\n",
       "      <td>ASP.NET MVC and Paging - Search &amp; Result Scenario</td>\n",
       "      <td>SSIS package works with windows account, fails...</td>\n",
       "      <td>0</td>\n",
       "      <td>[aspnet, mvc, page, search, result, scenario]</td>\n",
       "      <td>[ssis, package, work, windows, account, fail, ...</td>\n",
       "      <td>0.440151</td>\n",
       "      <td>0.027059</td>\n",
       "      <td>0.570081</td>\n",
       "      <td>0.126714</td>\n",
       "      <td>0.040168</td>\n",
       "      <td>0.430741</td>\n",
       "      <td>0.000000</td>\n",
       "      <td>39</td>\n",
       "    </tr>\n",
       "    <tr>\n",
       "      <th>1998</th>\n",
       "      <td>Create an \"all-in-one\" function using DS in C#</td>\n",
       "      <td>Header page in PHP that takes the application ...</td>\n",
       "      <td>0</td>\n",
       "      <td>[create, allinone, function, use, ds, c]</td>\n",
       "      <td>[header, page, php, take, application, directo...</td>\n",
       "      <td>0.665956</td>\n",
       "      <td>0.034621</td>\n",
       "      <td>0.700457</td>\n",
       "      <td>0.157098</td>\n",
       "      <td>0.041489</td>\n",
       "      <td>0.435088</td>\n",
       "      <td>0.000000</td>\n",
       "      <td>27</td>\n",
       "    </tr>\n",
       "    <tr>\n",
       "      <th>1999</th>\n",
       "      <td>Sprintf function + order arguments</td>\n",
       "      <td>Can the input and output strings to sprintf() ...</td>\n",
       "      <td>1</td>\n",
       "      <td>[sprintf, function, order, argument]</td>\n",
       "      <td>[input, output, string, sprintf]</td>\n",
       "      <td>0.607005</td>\n",
       "      <td>0.031974</td>\n",
       "      <td>0.662029</td>\n",
       "      <td>0.533728</td>\n",
       "      <td>0.055935</td>\n",
       "      <td>0.508729</td>\n",
       "      <td>0.062500</td>\n",
       "      <td>45</td>\n",
       "    </tr>\n",
       "  </tbody>\n",
       "</table>\n",
       "<p>2000 rows × 13 columns</p>\n",
       "</div>"
      ],
      "text/plain": [
       "                                              question1  \\\n",
       "0     How To Properly Create Domain using Zend Frame...   \n",
       "1     strange Fatal error: Cannot redeclare class pa...   \n",
       "2                  Fuzzy substring search in O(N log N)   \n",
       "3              How to install CodeRush Xpress on VS2005   \n",
       "4      Add tooltip programmatically on asp.net web page   \n",
       "...                                                 ...   \n",
       "1995  Tools, Visual Studio Setting to check uninitia...   \n",
       "1996         How do I parse a string to a float or int?   \n",
       "1997  ASP.NET MVC and Paging - Search & Result Scenario   \n",
       "1998     Create an \"all-in-one\" function using DS in C#   \n",
       "1999                 Sprintf function + order arguments   \n",
       "\n",
       "                                              question2  is_duplicate  \\\n",
       "0                 Add records from external ruby script             0   \n",
       "1               PHP Fatal error: Cannot redeclare class             1   \n",
       "2     Fastest way to find minimal Hamming distance t...             1   \n",
       "3     How do I find out how much free memory is left...             0   \n",
       "4                                   tooltips for Button             1   \n",
       "...                                                 ...           ...   \n",
       "1995                                 detect current tab             0   \n",
       "1996  In .aspx, how to pass a value from asp:Repeate...             0   \n",
       "1997  SSIS package works with windows account, fails...             0   \n",
       "1998  Header page in PHP that takes the application ...             0   \n",
       "1999  Can the input and output strings to sprintf() ...             1   \n",
       "\n",
       "                                      question1_cleaned  \\\n",
       "0     [how, properly, create, domain, use, zend, fra...   \n",
       "1     [strange, fatal, error, can, not, redeclare, c...   \n",
       "2                    [fuzzy, substring, search, log, n]   \n",
       "3              [how, install, coderush, xpress, vs2005]   \n",
       "4     [add, tooltip, programmatically, aspnet, web, ...   \n",
       "...                                                 ...   \n",
       "1995  [tool, visual, studio, set, check, uninitializ...   \n",
       "1996                   [how, parse, string, float, int]   \n",
       "1997      [aspnet, mvc, page, search, result, scenario]   \n",
       "1998           [create, allinone, function, use, ds, c]   \n",
       "1999               [sprintf, function, order, argument]   \n",
       "\n",
       "                                      question2_cleaned  sb_cos_sim  \\\n",
       "0                 [add, record, external, ruby, script]    0.450274   \n",
       "1       [php, fatal, error, can, not, redeclare, class]    0.764689   \n",
       "2     [fast, way, find, minimal, hamming, distance, ...    0.483319   \n",
       "3     [how, find, how, much, free, memory, leave, gn...    0.548876   \n",
       "4                                     [tooltip, button]    0.655901   \n",
       "...                                                 ...         ...   \n",
       "1995                             [detect, current, tab]    0.431152   \n",
       "1996  [aspx, how, pass, value, asprepeater, code, be...    0.682714   \n",
       "1997  [ssis, package, work, windows, account, fail, ...    0.440151   \n",
       "1998  [header, page, php, take, application, directo...    0.665956   \n",
       "1999                   [input, output, string, sprintf]    0.607005   \n",
       "\n",
       "      sb_man_sim  sb_euc_sim  use_cos_sim  use_man_sim  use_euc_sim  \\\n",
       "0       0.026406    0.548539     0.348263     0.046645     0.466919   \n",
       "1       0.041130    0.833274     0.750127     0.074904     0.585848   \n",
       "2       0.027673    0.579418     0.582151     0.057934     0.522421   \n",
       "3       0.030009    0.625877     0.350268     0.046742     0.467303   \n",
       "4       0.033523    0.687599     0.485400     0.053052     0.496402   \n",
       "...          ...         ...          ...          ...          ...   \n",
       "1995    0.025803    0.537416     0.203009     0.041528     0.441983   \n",
       "1996    0.035912    0.746682     0.431513     0.049283     0.483959   \n",
       "1997    0.027059    0.570081     0.126714     0.040168     0.430741   \n",
       "1998    0.034621    0.700457     0.157098     0.041489     0.435088   \n",
       "1999    0.031974    0.662029     0.533728     0.055935     0.508729   \n",
       "\n",
       "      common_word_count_ratio  sorted_fuzzy_ratio  \n",
       "0                    0.000000                   8  \n",
       "1                    0.200000                  82  \n",
       "2                    0.041667                  42  \n",
       "3                    0.033333                  32  \n",
       "4                    0.062500                  31  \n",
       "...                       ...                 ...  \n",
       "1995                 0.000000                  19  \n",
       "1996                 0.038462                  28  \n",
       "1997                 0.000000                  39  \n",
       "1998                 0.000000                  27  \n",
       "1999                 0.062500                  45  \n",
       "\n",
       "[2000 rows x 13 columns]"
      ]
     },
     "execution_count": 109,
     "metadata": {},
     "output_type": "execute_result"
    }
   ],
   "source": [
    "sof_concat_df"
   ]
  },
  {
   "cell_type": "markdown",
   "metadata": {},
   "source": [
    "# Normalize and split"
   ]
  },
  {
   "cell_type": "code",
   "execution_count": 43,
   "metadata": {},
   "outputs": [],
   "source": [
    "from sklearn.preprocessing import MinMaxScaler\n"
   ]
  },
  {
   "cell_type": "code",
   "execution_count": 40,
   "metadata": {},
   "outputs": [],
   "source": [
    "sof_data = sof_concat_df.drop(columns=['question1', 'question2','question1_cleaned','question2_cleaned',\"sb_man_sim\",\"use_man_sim\",\"sb_euc_sim\",\"use_man_sim\"])"
   ]
  },
  {
   "cell_type": "code",
   "execution_count": 45,
   "metadata": {},
   "outputs": [],
   "source": [
    "sof_data.to_pickle(\"./sof_data.pkl\")\n",
    "sof_data = pd.read_pickle(\"./sof_data.pkl\") "
   ]
  },
  {
   "cell_type": "code",
   "execution_count": 44,
   "metadata": {},
   "outputs": [],
   "source": [
    "# sb_euc_scaler = MinMaxScaler().fit(np.array(sof_concat_df[\"sb_euc_sim\"]).reshape(-1,1))\n",
    "# use_euc_scaler = MinMaxScaler().fit(np.array(sof_concat_df[\"use_euc_sim\"]).reshape(-1,1))\n",
    "fuzzy_scaler = MinMaxScaler().fit(np.array(sof_concat_df[\"sorted_fuzzy_ratio\"]).reshape(-1,1))\n",
    "wr_scaler = MinMaxScaler().fit(np.array(sof_concat_df[\"common_word_count_ratio\"]).reshape(-1,1))"
   ]
  },
  {
   "cell_type": "code",
   "execution_count": null,
   "metadata": {},
   "outputs": [],
   "source": [
    "#sof_data[\"sb_man_sim\"] = MinMaxScaler().fit_transform(np.array(sof_data[\"sb_man_sim\"]).reshape(-1,1))\n",
    "#sof_data[\"sb_euc_sim\"] = MinMaxScaler().fit_transform(np.array(sof_data[\"sb_euc_sim\"]).reshape(-1,1))\n",
    "sof_data[\"sorted_fuzzy_ratio\"] = fuzzy_scaler.transform(np.array(sof_data[\"sorted_fuzzy_ratio\"]).reshape(-1,1))\n",
    "#sof_data[\"use_man_sim\"] = MinMaxScaler().fit_transform(np.array(sof_data[\"sb_man_sim\"]).reshape(-1,1))\n",
    "sof_data[\"common_word_count_ratio\"] = wr_scaler.transform(np.array(sof_data[\"common_word_count_ratio\"]).reshape(-1,1))\n"
   ]
  },
  {
   "cell_type": "code",
   "execution_count": 46,
   "metadata": {},
   "outputs": [
    {
     "data": {
      "text/html": [
       "<div>\n",
       "<style scoped>\n",
       "    .dataframe tbody tr th:only-of-type {\n",
       "        vertical-align: middle;\n",
       "    }\n",
       "\n",
       "    .dataframe tbody tr th {\n",
       "        vertical-align: top;\n",
       "    }\n",
       "\n",
       "    .dataframe thead th {\n",
       "        text-align: right;\n",
       "    }\n",
       "</style>\n",
       "<table border=\"1\" class=\"dataframe\">\n",
       "  <thead>\n",
       "    <tr style=\"text-align: right;\">\n",
       "      <th></th>\n",
       "      <th>is_duplicate</th>\n",
       "      <th>sb_cos_sim</th>\n",
       "      <th>use_cos_sim</th>\n",
       "      <th>use_euc_sim</th>\n",
       "      <th>common_word_count_ratio</th>\n",
       "      <th>sorted_fuzzy_ratio</th>\n",
       "    </tr>\n",
       "  </thead>\n",
       "  <tbody>\n",
       "    <tr>\n",
       "      <th>0</th>\n",
       "      <td>1</td>\n",
       "      <td>0.848738</td>\n",
       "      <td>0.565140</td>\n",
       "      <td>0.517441</td>\n",
       "      <td>0.200000</td>\n",
       "      <td>38</td>\n",
       "    </tr>\n",
       "    <tr>\n",
       "      <th>1</th>\n",
       "      <td>1</td>\n",
       "      <td>0.338827</td>\n",
       "      <td>0.492656</td>\n",
       "      <td>0.498177</td>\n",
       "      <td>0.062500</td>\n",
       "      <td>24</td>\n",
       "    </tr>\n",
       "    <tr>\n",
       "      <th>2</th>\n",
       "      <td>0</td>\n",
       "      <td>0.371934</td>\n",
       "      <td>0.109520</td>\n",
       "      <td>0.428352</td>\n",
       "      <td>0.000000</td>\n",
       "      <td>28</td>\n",
       "    </tr>\n",
       "    <tr>\n",
       "      <th>3</th>\n",
       "      <td>0</td>\n",
       "      <td>0.538113</td>\n",
       "      <td>0.064168</td>\n",
       "      <td>0.422282</td>\n",
       "      <td>0.000000</td>\n",
       "      <td>27</td>\n",
       "    </tr>\n",
       "    <tr>\n",
       "      <th>4</th>\n",
       "      <td>1</td>\n",
       "      <td>0.791258</td>\n",
       "      <td>0.790833</td>\n",
       "      <td>0.607243</td>\n",
       "      <td>0.222222</td>\n",
       "      <td>57</td>\n",
       "    </tr>\n",
       "    <tr>\n",
       "      <th>...</th>\n",
       "      <td>...</td>\n",
       "      <td>...</td>\n",
       "      <td>...</td>\n",
       "      <td>...</td>\n",
       "      <td>...</td>\n",
       "      <td>...</td>\n",
       "    </tr>\n",
       "    <tr>\n",
       "      <th>99995</th>\n",
       "      <td>0</td>\n",
       "      <td>0.588093</td>\n",
       "      <td>-0.054984</td>\n",
       "      <td>0.407735</td>\n",
       "      <td>0.000000</td>\n",
       "      <td>27</td>\n",
       "    </tr>\n",
       "    <tr>\n",
       "      <th>99996</th>\n",
       "      <td>1</td>\n",
       "      <td>0.796350</td>\n",
       "      <td>0.770271</td>\n",
       "      <td>0.596007</td>\n",
       "      <td>0.222222</td>\n",
       "      <td>54</td>\n",
       "    </tr>\n",
       "    <tr>\n",
       "      <th>99997</th>\n",
       "      <td>0</td>\n",
       "      <td>0.366446</td>\n",
       "      <td>0.046242</td>\n",
       "      <td>0.419969</td>\n",
       "      <td>0.071429</td>\n",
       "      <td>31</td>\n",
       "    </tr>\n",
       "    <tr>\n",
       "      <th>99998</th>\n",
       "      <td>0</td>\n",
       "      <td>0.478150</td>\n",
       "      <td>-0.039541</td>\n",
       "      <td>0.409517</td>\n",
       "      <td>0.000000</td>\n",
       "      <td>26</td>\n",
       "    </tr>\n",
       "    <tr>\n",
       "      <th>99999</th>\n",
       "      <td>0</td>\n",
       "      <td>0.406255</td>\n",
       "      <td>0.215895</td>\n",
       "      <td>0.443994</td>\n",
       "      <td>0.000000</td>\n",
       "      <td>26</td>\n",
       "    </tr>\n",
       "  </tbody>\n",
       "</table>\n",
       "<p>100000 rows × 6 columns</p>\n",
       "</div>"
      ],
      "text/plain": [
       "       is_duplicate  sb_cos_sim  use_cos_sim  use_euc_sim  \\\n",
       "0                 1    0.848738     0.565140     0.517441   \n",
       "1                 1    0.338827     0.492656     0.498177   \n",
       "2                 0    0.371934     0.109520     0.428352   \n",
       "3                 0    0.538113     0.064168     0.422282   \n",
       "4                 1    0.791258     0.790833     0.607243   \n",
       "...             ...         ...          ...          ...   \n",
       "99995             0    0.588093    -0.054984     0.407735   \n",
       "99996             1    0.796350     0.770271     0.596007   \n",
       "99997             0    0.366446     0.046242     0.419969   \n",
       "99998             0    0.478150    -0.039541     0.409517   \n",
       "99999             0    0.406255     0.215895     0.443994   \n",
       "\n",
       "       common_word_count_ratio  sorted_fuzzy_ratio  \n",
       "0                     0.200000                  38  \n",
       "1                     0.062500                  24  \n",
       "2                     0.000000                  28  \n",
       "3                     0.000000                  27  \n",
       "4                     0.222222                  57  \n",
       "...                        ...                 ...  \n",
       "99995                 0.000000                  27  \n",
       "99996                 0.222222                  54  \n",
       "99997                 0.071429                  31  \n",
       "99998                 0.000000                  26  \n",
       "99999                 0.000000                  26  \n",
       "\n",
       "[100000 rows x 6 columns]"
      ]
     },
     "execution_count": 46,
     "metadata": {},
     "output_type": "execute_result"
    }
   ],
   "source": [
    "sof_data"
   ]
  },
  {
   "cell_type": "code",
   "execution_count": 47,
   "metadata": {},
   "outputs": [],
   "source": [
    "import pickle"
   ]
  },
  {
   "cell_type": "code",
   "execution_count": 48,
   "metadata": {},
   "outputs": [],
   "source": [
    "# pickle.dump(sb_euc_scaler, open(\"sb_euc_scaler.sav\", 'wb'))\n",
    "# pickle.dump(use_euc_scaler, open(\"use_euc_scaler.sav\", 'wb'))\n",
    "pickle.dump(fuzzy_scaler, open(\"fuzzy_scaler.sav\", 'wb'))\n",
    "pickle.dump(wr_scaler, open(\"wr_scaler.sav\", 'wb'))"
   ]
  },
  {
   "cell_type": "code",
   "execution_count": 49,
   "metadata": {},
   "outputs": [],
   "source": [
    "x_data = sof_data.iloc[:,1:]\n",
    "y_data = sof_data.iloc[:,0]"
   ]
  },
  {
   "cell_type": "code",
   "execution_count": 50,
   "metadata": {},
   "outputs": [],
   "source": [
    "from sklearn.model_selection import train_test_split\n",
    "X_train, X_test, Y_train, Y_test = train_test_split(x_data, y_data, test_size=0.33, random_state=42)"
   ]
  },
  {
   "cell_type": "code",
   "execution_count": 51,
   "metadata": {},
   "outputs": [
    {
     "data": {
      "text/plain": [
       "1    16526\n",
       "0    16474\n",
       "Name: is_duplicate, dtype: int64"
      ]
     },
     "execution_count": 51,
     "metadata": {},
     "output_type": "execute_result"
    }
   ],
   "source": [
    "Y_test.value_counts()"
   ]
  },
  {
   "cell_type": "code",
   "execution_count": null,
   "metadata": {},
   "outputs": [],
   "source": [
    "X_train"
   ]
  },
  {
   "cell_type": "markdown",
   "metadata": {},
   "source": [
    "# PCA and TSNE"
   ]
  },
  {
   "cell_type": "code",
   "execution_count": 52,
   "metadata": {},
   "outputs": [],
   "source": [
    "from __future__ import print_function\n",
    "import time\n",
    "\n",
    "import numpy as np\n",
    "import pandas as pd\n",
    "from sklearn.decomposition import PCA\n",
    "from sklearn.manifold import TSNE\n",
    "\n",
    "%matplotlib inline\n",
    "import matplotlib.pyplot as plt\n",
    "from mpl_toolkits.mplot3d import Axes3D\n",
    "\n",
    "import seaborn as sns"
   ]
  },
  {
   "cell_type": "code",
   "execution_count": 53,
   "metadata": {},
   "outputs": [],
   "source": [
    "from sklearn.decomposition import PCA\n",
    "pca = PCA(n_components=1)\n",
    "principalComponents = pca.fit_transform(x_data)"
   ]
  },
  {
   "cell_type": "code",
   "execution_count": 54,
   "metadata": {},
   "outputs": [],
   "source": [
    "PCADF = pd.DataFrame(data = principalComponents, columns = ['component 1'])"
   ]
  },
  {
   "cell_type": "code",
   "execution_count": 55,
   "metadata": {},
   "outputs": [],
   "source": [
    "finalPCADF = pd.concat([PCADF, y_data],axis = 1)"
   ]
  },
  {
   "cell_type": "code",
   "execution_count": 57,
   "metadata": {},
   "outputs": [],
   "source": [
    "s=finalPCADF.loc[finalPCADF[\"is_duplicate\"]==1][\"component 1\"].shape"
   ]
  },
  {
   "cell_type": "code",
   "execution_count": 58,
   "metadata": {
    "scrolled": true
   },
   "outputs": [
    {
     "data": {
      "image/png": "[encoded data removed]",
      "text/plain": [
       "<Figure size 640x480 with 1 Axes>"
      ]
     },
     "metadata": {},
     "output_type": "display_data"
    }
   ],
   "source": [
    "plt.scatter(finalPCADF.loc[finalPCADF[\"is_duplicate\"]==1][\"component 1\"],np.zeros(s), c = \"red\")\n",
    "plt.scatter(finalPCADF.loc[finalPCADF[\"is_duplicate\"]==0][\"component 1\"],np.zeros(s), c = \"blue\")\n",
    "plt.show()"
   ]
  },
  {
   "cell_type": "markdown",
   "metadata": {},
   "source": [
    "# Model"
   ]
  },
  {
   "cell_type": "code",
   "execution_count": null,
   "metadata": {},
   "outputs": [],
   "source": [
    "from xgboost import XGBClassifier\n",
    "from sklearn.model_selection import train_test_split\n",
    "from sklearn.metrics import accuracy_score\n",
    "from sklearn.model_selection import RandomizedSearchCV"
   ]
  },
  {
   "cell_type": "code",
   "execution_count": 154,
   "metadata": {},
   "outputs": [
    {
     "name": "stdout",
     "output_type": "stream",
     "text": [
      "Fitting 5 folds for each of 25 candidates, totalling 125 fits\n"
     ]
    }
   ],
   "source": [
    "params = {'max_depth': [2,3,4,5],\n",
    "          'learning_rate': [0.01, 0.1, 0.2, 0.3, 0.4],\n",
    "          'subsample': np.arange(0.5, 1.0, 0.1),\n",
    "          'colsample_bytree': np.arange(0.5, 1.0, 0.1),\n",
    "          'colsample_bylevel': np.arange(0.5, 1.0, 0.1),\n",
    "          'n_estimators': [100, 250, 500, 750],\n",
    "          }\n",
    "\n",
    "xgbclf = XGBClassifier(objective=\"binary:logistic\")\n",
    "clf = RandomizedSearchCV(estimator=xgbclf,\n",
    "                         param_distributions=params,\n",
    "                         scoring='accuracy',\n",
    "                         n_iter=25,\n",
    "                         n_jobs=3,\n",
    "                         verbose=1)\n",
    "\n",
    "clf.fit(X_train, Y_train)\n",
    "\n",
    "best_combination = clf.best_params_"
   ]
  },
  {
   "cell_type": "code",
   "execution_count": 155,
   "metadata": {},
   "outputs": [
    {
     "data": {
      "text/plain": [
       "{'subsample': 0.8999999999999999,\n",
       " 'n_estimators': 750,\n",
       " 'max_depth': 2,\n",
       " 'learning_rate': 0.01,\n",
       " 'colsample_bytree': 0.7999999999999999,\n",
       " 'colsample_bylevel': 0.5}"
      ]
     },
     "execution_count": 155,
     "metadata": {},
     "output_type": "execute_result"
    }
   ],
   "source": [
    "best_combination"
   ]
  },
  {
   "cell_type": "code",
   "execution_count": 164,
   "metadata": {},
   "outputs": [],
   "source": [
    "model = XGBClassifier(objective=\"binary:logistic\",subsample=0.7,n_estimators=750,max_depth=4,learning_rate=0.01,colsample_bytree = 0.6,colsample_bylevel=0.79)"
   ]
  },
  {
   "cell_type": "code",
   "execution_count": 165,
   "metadata": {},
   "outputs": [
    {
     "data": {
      "text/plain": [
       "XGBClassifier(base_score=0.5, booster='gbtree', callbacks=None,\n",
       "              colsample_bylevel=0.79, colsample_bynode=1, colsample_bytree=0.6,\n",
       "              early_stopping_rounds=None, enable_categorical=False,\n",
       "              eval_metric=None, gamma=0, gpu_id=-1, grow_policy='depthwise',\n",
       "              importance_type=None, interaction_constraints='',\n",
       "              learning_rate=0.01, max_bin=256, max_cat_to_onehot=4,\n",
       "              max_delta_step=0, max_depth=4, max_leaves=0, min_child_weight=1,\n",
       "              missing=nan, monotone_constraints='()', n_estimators=750,\n",
       "              n_jobs=0, num_parallel_tree=1, predictor='auto', random_state=0,\n",
       "              reg_alpha=0, reg_lambda=1, ...)"
      ]
     },
     "execution_count": 165,
     "metadata": {},
     "output_type": "execute_result"
    }
   ],
   "source": [
    "model.fit(X_train, Y_train)"
   ]
  },
  {
   "cell_type": "code",
   "execution_count": null,
   "metadata": {},
   "outputs": [],
   "source": []
  },
  {
   "cell_type": "markdown",
   "metadata": {},
   "source": [
    "# Neural network"
   ]
  },
  {
   "cell_type": "code",
   "execution_count": 59,
   "metadata": {},
   "outputs": [],
   "source": [
    "x_traindata = X_train.to_numpy(dtype=\"float32\")\n",
    "y_traindata = Y_train.to_numpy(dtype=\"float32\")"
   ]
  },
  {
   "cell_type": "code",
   "execution_count": 60,
   "metadata": {},
   "outputs": [],
   "source": [
    "x_testdata = X_test.to_numpy(dtype=\"float32\")\n",
    "y_testdata = Y_test.to_numpy(dtype=\"float32\")"
   ]
  },
  {
   "cell_type": "code",
   "execution_count": 61,
   "metadata": {},
   "outputs": [],
   "source": [
    "from torch.utils.data import Dataset, DataLoader\n",
    "class dataset(Dataset):\n",
    "    def __init__(self,x,y):\n",
    "        self.x = torch.tensor(x,dtype=torch.float32)\n",
    "        self.y = torch.tensor(y,dtype=torch.float32)\n",
    "        self.length = self.x.shape[0]\n",
    " \n",
    "    def __getitem__(self,idx):\n",
    "        return self.x[idx],self.y[idx]\n",
    "    def __len__(self):\n",
    "        return self.length"
   ]
  },
  {
   "cell_type": "code",
   "execution_count": 62,
   "metadata": {},
   "outputs": [],
   "source": [
    "trainset = dataset(x_traindata,y_traindata)\n",
    "trainloader = DataLoader(trainset,batch_size=1000,shuffle=False)\n",
    "\n",
    "testset = dataset(x_testdata,y_testdata)\n",
    "testloader = DataLoader(testset,batch_size=len(testset),shuffle=False)"
   ]
  },
  {
   "cell_type": "code",
   "execution_count": 63,
   "metadata": {},
   "outputs": [],
   "source": [
    "from torch import nn\n",
    "from torch.nn import functional as F\n",
    "class Net(nn.Module):\n",
    "    def __init__(self):\n",
    "        super(Net,self).__init__()\n",
    "        self.layer1 = nn.Linear(5,3)\n",
    "        self.layer2 = nn.Linear(3,1)\n",
    "    def forward(self,x):\n",
    "        x = torch.relu(self.layer1(x))\n",
    "        x = torch.sigmoid(self.layer2(x))\n",
    "        return x"
   ]
  },
  {
   "cell_type": "code",
   "execution_count": 64,
   "metadata": {},
   "outputs": [],
   "source": [
    "def calc_acc(pred,y_data):\n",
    "    match_arr=[]\n",
    "    for p,y in (zip(pred,y_data)):\n",
    "        if p==y:\n",
    "            match_arr.append(1)\n",
    "        else:\n",
    "            match_arr.append(0)\n",
    "    return np.mean(match_arr)"
   ]
  },
  {
   "cell_type": "code",
   "execution_count": 65,
   "metadata": {},
   "outputs": [],
   "source": [
    "epochs = 50\n",
    "model = Net()\n",
    "optimizer = torch.optim.Adam(model.parameters(),lr=0.001)\n",
    "loss_fn = nn.BCELoss()"
   ]
  },
  {
   "cell_type": "code",
   "execution_count": 66,
   "metadata": {},
   "outputs": [],
   "source": [
    "def pass_threshold(pred):\n",
    "    ret_pred = []\n",
    "    for p in pred:\n",
    "        if p>0.7:\n",
    "            ret_pred.append(1)\n",
    "        else:\n",
    "            ret_pred.append(0)\n",
    "    return ret_pred\n",
    "    "
   ]
  },
  {
   "cell_type": "code",
   "execution_count": 67,
   "metadata": {
    "scrolled": true
   },
   "outputs": [
    {
     "name": "stderr",
     "output_type": "stream",
     "text": [
      "d:\\jupyter\\big data\\project\\spark-test\\venv_tf_1\\lib\\site-packages\\ipykernel_launcher.py:25: UserWarning: To copy construct from a tensor, it is recommended to use sourceTensor.clone().detach() or sourceTensor.clone().detach().requires_grad_(True), rather than torch.tensor(sourceTensor).\n"
     ]
    },
    {
     "name": "stdout",
     "output_type": "stream",
     "text": [
      "epoch 0\tTrain Accuracy : 0.679\n",
      "epoch 0\tTest Accuracy : 0.681030303030303\n",
      "epoch 1\tTrain Accuracy : 0.5571940298507463\n",
      "epoch 1\tTest Accuracy : 0.5528484848484848\n",
      "epoch 2\tTrain Accuracy : 0.5375970149253732\n",
      "epoch 2\tTest Accuracy : 0.5341212121212121\n",
      "epoch 3\tTrain Accuracy : 0.5606417910447761\n",
      "epoch 3\tTest Accuracy : 0.5563030303030303\n",
      "epoch 4\tTrain Accuracy : 0.5855671641791045\n",
      "epoch 4\tTest Accuracy : 0.5801818181818181\n",
      "epoch 5\tTrain Accuracy : 0.6094179104477612\n",
      "epoch 5\tTest Accuracy : 0.6046060606060606\n",
      "epoch 6\tTrain Accuracy : 0.6328507462686567\n",
      "epoch 6\tTest Accuracy : 0.6281515151515151\n",
      "epoch 7\tTrain Accuracy : 0.6543134328358209\n",
      "epoch 7\tTest Accuracy : 0.6487575757575758\n",
      "epoch 8\tTrain Accuracy : 0.674179104477612\n",
      "epoch 8\tTest Accuracy : 0.6686363636363636\n",
      "epoch 9\tTrain Accuracy : 0.6931791044776119\n",
      "epoch 9\tTest Accuracy : 0.686939393939394\n",
      "epoch 10\tTrain Accuracy : 0.7096417910447761\n",
      "epoch 10\tTest Accuracy : 0.7032121212121212\n",
      "epoch 11\tTrain Accuracy : 0.7261194029850746\n",
      "epoch 11\tTest Accuracy : 0.7195151515151516\n",
      "epoch 12\tTrain Accuracy : 0.7404179104477612\n",
      "epoch 12\tTest Accuracy : 0.7340606060606061\n",
      "epoch 13\tTrain Accuracy : 0.753\n",
      "epoch 13\tTest Accuracy : 0.7474848484848485\n",
      "epoch 14\tTrain Accuracy : 0.7646865671641792\n",
      "epoch 14\tTest Accuracy : 0.7593636363636364\n",
      "epoch 15\tTrain Accuracy : 0.7753283582089552\n",
      "epoch 15\tTest Accuracy : 0.7707878787878788\n",
      "epoch 16\tTrain Accuracy : 0.7852985074626866\n",
      "epoch 16\tTest Accuracy : 0.7804545454545454\n",
      "epoch 17\tTrain Accuracy : 0.793910447761194\n",
      "epoch 17\tTest Accuracy : 0.7894848484848485\n",
      "epoch 18\tTrain Accuracy : 0.8024626865671641\n",
      "epoch 18\tTest Accuracy : 0.798\n",
      "epoch 19\tTrain Accuracy : 0.8096417910447761\n",
      "epoch 19\tTest Accuracy : 0.8054545454545454\n",
      "epoch 20\tTrain Accuracy : 0.8158507462686567\n",
      "epoch 20\tTest Accuracy : 0.8114545454545454\n",
      "epoch 21\tTrain Accuracy : 0.8217164179104478\n",
      "epoch 21\tTest Accuracy : 0.8164545454545454\n",
      "epoch 22\tTrain Accuracy : 0.8266567164179105\n",
      "epoch 22\tTest Accuracy : 0.8217272727272728\n",
      "epoch 23\tTrain Accuracy : 0.831134328358209\n",
      "epoch 23\tTest Accuracy : 0.8268787878787879\n",
      "epoch 24\tTrain Accuracy : 0.8357313432835821\n",
      "epoch 24\tTest Accuracy : 0.8309090909090909\n",
      "epoch 25\tTrain Accuracy : 0.8399552238805971\n",
      "epoch 25\tTest Accuracy : 0.8355151515151515\n",
      "epoch 26\tTrain Accuracy : 0.8436417910447761\n",
      "epoch 26\tTest Accuracy : 0.8389696969696969\n",
      "epoch 27\tTrain Accuracy : 0.8466119402985075\n",
      "epoch 27\tTest Accuracy : 0.8421818181818181\n",
      "epoch 28\tTrain Accuracy : 0.8498955223880597\n",
      "epoch 28\tTest Accuracy : 0.8453333333333334\n",
      "epoch 29\tTrain Accuracy : 0.8530298507462687\n",
      "epoch 29\tTest Accuracy : 0.8485757575757575\n",
      "epoch 30\tTrain Accuracy : 0.8561791044776119\n",
      "epoch 30\tTest Accuracy : 0.8516666666666667\n",
      "epoch 31\tTrain Accuracy : 0.8589104477611941\n",
      "epoch 31\tTest Accuracy : 0.8541515151515151\n",
      "epoch 32\tTrain Accuracy : 0.8612537313432835\n",
      "epoch 32\tTest Accuracy : 0.8566666666666667\n",
      "epoch 33\tTrain Accuracy : 0.864089552238806\n",
      "epoch 33\tTest Accuracy : 0.8595151515151516\n",
      "epoch 34\tTrain Accuracy : 0.865955223880597\n",
      "epoch 34\tTest Accuracy : 0.8619696969696969\n",
      "epoch 35\tTrain Accuracy : 0.8678805970149254\n",
      "epoch 35\tTest Accuracy : 0.8642121212121212\n",
      "epoch 36\tTrain Accuracy : 0.8698805970149254\n",
      "epoch 36\tTest Accuracy : 0.8662727272727273\n",
      "epoch 37\tTrain Accuracy : 0.8716567164179104\n",
      "epoch 37\tTest Accuracy : 0.8685454545454545\n",
      "epoch 38\tTrain Accuracy : 0.8734477611940299\n",
      "epoch 38\tTest Accuracy : 0.8705151515151515\n",
      "epoch 39\tTrain Accuracy : 0.8752985074626866\n",
      "epoch 39\tTest Accuracy : 0.8726363636363637\n",
      "epoch 40\tTrain Accuracy : 0.8768507462686567\n",
      "epoch 40\tTest Accuracy : 0.8743939393939394\n",
      "epoch 41\tTrain Accuracy : 0.8783432835820896\n",
      "epoch 41\tTest Accuracy : 0.8752727272727273\n",
      "epoch 42\tTrain Accuracy : 0.879955223880597\n",
      "epoch 42\tTest Accuracy : 0.8770909090909091\n",
      "epoch 43\tTrain Accuracy : 0.8812089552238807\n",
      "epoch 43\tTest Accuracy : 0.8782727272727273\n",
      "epoch 44\tTrain Accuracy : 0.8826119402985074\n",
      "epoch 44\tTest Accuracy : 0.8796363636363637\n",
      "epoch 45\tTrain Accuracy : 0.883910447761194\n",
      "epoch 45\tTest Accuracy : 0.8808484848484849\n",
      "epoch 46\tTrain Accuracy : 0.8853582089552239\n",
      "epoch 46\tTest Accuracy : 0.8821212121212121\n",
      "epoch 47\tTrain Accuracy : 0.8867014925373135\n",
      "epoch 47\tTest Accuracy : 0.8829090909090909\n",
      "epoch 48\tTrain Accuracy : 0.8875223880597015\n",
      "epoch 48\tTest Accuracy : 0.8841515151515151\n",
      "epoch 49\tTrain Accuracy : 0.8883134328358209\n",
      "epoch 49\tTest Accuracy : 0.8845454545454545\n"
     ]
    }
   ],
   "source": [
    "losses = []\n",
    "test_acc_arr = []\n",
    "train_acc_arr = []\n",
    "for i in range(epochs):\n",
    "    for x_train,y_train in trainloader:\n",
    "        output = model(x_train)\n",
    "\n",
    "        loss = loss_fn(output,y_train.reshape(-1,1))\n",
    "        optimizer.zero_grad()\n",
    "        loss.backward()\n",
    "        optimizer.step()\n",
    "\n",
    "        losses.append(loss.detach().numpy())\n",
    "        #print(\"epoch {}\\tloss : {}\".format(i,loss))\n",
    "    \n",
    "    train_predicted = model(torch.tensor(x_traindata,dtype=torch.float32))\n",
    "    train_pred = pass_threshold(train_predicted.reshape(-1).detach().numpy())\n",
    "#     test_predicted = model(torch.tensor(data,dtype=torch.float32))\n",
    "#     test_pred = pass_threshold(test_predicted.reshape(-1).detach().numpy())\n",
    "\n",
    "    train_acc=calc_acc(train_pred,y_traindata)\n",
    "    train_acc_arr.append(train_acc)\n",
    "    \n",
    "    tx,ty = next(iter(testloader))\n",
    "    test_predicted = model(torch.tensor(tx,dtype=torch.float32))\n",
    "    test_pred = pass_threshold(test_predicted.reshape(-1).detach().numpy())\n",
    "    test_acc=calc_acc(test_pred,ty)\n",
    "    test_acc_arr.append(test_acc)\n",
    "    \n",
    "    print(\"epoch {}\\tTrain Accuracy : {}\".format(i,train_acc))\n",
    "    print(\"epoch {}\\tTest Accuracy : {}\".format(i,test_acc))"
   ]
  },
  {
   "cell_type": "code",
   "execution_count": 71,
   "metadata": {},
   "outputs": [
    {
     "data": {
      "text/plain": [
       "Text(0, 0.5, 'loss')"
      ]
     },
     "execution_count": 71,
     "metadata": {},
     "output_type": "execute_result"
    },
    {
     "data": {
      "image/png": "[encoded data removed]",
      "text/plain": [
       "<Figure size 640x480 with 1 Axes>"
      ]
     },
     "metadata": {},
     "output_type": "display_data"
    }
   ],
   "source": [
    "plt.plot(losses)\n",
    "plt.title('Loss vs Iterations')\n",
    "plt.xlabel('Iterations')\n",
    "plt.ylabel('loss')"
   ]
  },
  {
   "cell_type": "code",
   "execution_count": 72,
   "metadata": {},
   "outputs": [
    {
     "data": {
      "text/plain": [
       "Text(0, 0.5, 'Train Accuracy')"
      ]
     },
     "execution_count": 72,
     "metadata": {},
     "output_type": "execute_result"
    },
    {
     "data": {
      "image/png": "[encoded data removed]",
      "text/plain": [
       "<Figure size 640x480 with 1 Axes>"
      ]
     },
     "metadata": {},
     "output_type": "display_data"
    }
   ],
   "source": [
    "plt.plot(train_acc_arr)\n",
    "plt.title('Train Accuracy vs Epochs')\n",
    "plt.xlabel('Epochs')\n",
    "\n",
    "plt.ylabel('Train Accuracy')"
   ]
  },
  {
   "cell_type": "code",
   "execution_count": 73,
   "metadata": {},
   "outputs": [
    {
     "data": {
      "text/plain": [
       "Text(0, 0.5, 'Test Accuracy')"
      ]
     },
     "execution_count": 73,
     "metadata": {},
     "output_type": "execute_result"
    },
    {
     "data": {
      "image/png": "[encoded data removed]",
      "text/plain": [
       "<Figure size 640x480 with 1 Axes>"
      ]
     },
     "metadata": {},
     "output_type": "display_data"
    }
   ],
   "source": [
    "plt.plot(test_acc_arr)\n",
    "plt.title('Test Accuracy vs Epochs')\n",
    "plt.xlabel('Epochs')\n",
    "plt.ylabel('Test Accuracy')"
   ]
  },
  {
   "cell_type": "code",
   "execution_count": 92,
   "metadata": {},
   "outputs": [],
   "source": [
    "torch.save(model, \"mlp_model_1\")"
   ]
  },
  {
   "cell_type": "markdown",
   "metadata": {},
   "source": [
    "# Testing"
   ]
  },
  {
   "cell_type": "code",
   "execution_count": 167,
   "metadata": {},
   "outputs": [],
   "source": [
    "y_pred = model.predict(X_test)"
   ]
  },
  {
   "cell_type": "code",
   "execution_count": 168,
   "metadata": {},
   "outputs": [
    {
     "data": {
      "text/plain": [
       "0.8984848484848484"
      ]
     },
     "execution_count": 168,
     "metadata": {},
     "output_type": "execute_result"
    }
   ],
   "source": [
    "calc_acc(y_pred,Y_test)"
   ]
  },
  {
   "cell_type": "code",
   "execution_count": 169,
   "metadata": {},
   "outputs": [],
   "source": [
    "model.save_model(\"model.txt\")\n",
    "# model = xgb.Booster()\n",
    "# model.load_model(\"model.txt\")"
   ]
  },
  {
   "cell_type": "code",
   "execution_count": null,
   "metadata": {},
   "outputs": [],
   "source": [
    "from sklearn.metrics import plot_confusion_matrix \n",
    "\n",
    "matrix = plot_confusion_matrix(model, X_test, Y_test)\n",
    "matrix.ax_.set_title('Confusion Matrix')\n",
    "plt.xlabel('Predicted Label')\n",
    "plt.ylabel('True Label')\n",
    "plt.gcf().axes[0]\n",
    "plt.gcf().axes[1]\n",
    "plt.show()"
   ]
  },
  {
   "cell_type": "markdown",
   "metadata": {},
   "source": [
    "# Inference"
   ]
  },
  {
   "cell_type": "code",
   "execution_count": null,
   "metadata": {},
   "outputs": [],
   "source": [
    "import torch\n",
    "import numpy as np\n",
    "import matplotlib.pyplot as plt\n",
    "import pandas as pd\n",
    "from tqdm import tqdm\n",
    "import spacy\n",
    "import numpy as np\n",
    "from sklearn.model_selection import train_test_split\n",
    "import torch\n",
    "from torch.utils.data import Dataset, DataLoader\n",
    "import torch.nn as nn\n",
    "import spacy\n",
    "import glob\n",
    "import os\n",
    "import re\n",
    "import string\n",
    "from bs4 import BeautifulSoup\n",
    "import nltk\n",
    "from sentence_transformers import SentenceTransformer\n",
    "import tensorflow_hub as hub\n",
    "from fuzzywuzzy import fuzz\n",
    "from sklearn.preprocessing import MinMaxScaler"
   ]
  },
  {
   "cell_type": "code",
   "execution_count": null,
   "metadata": {},
   "outputs": [],
   "source": [
    "nltk.download('stopwords')\n",
    "embed = hub.load(\"D:/jupyter/big data/project/spark-test/use\")\n",
    "sbert_model = SentenceTransformer('distilbert-base-nli-mean-tokens')"
   ]
  },
  {
   "cell_type": "code",
   "execution_count": null,
   "metadata": {},
   "outputs": [],
   "source": [
    "def preprocess(question):\n",
    "    stop_words = nltk.corpus.stopwords.words(\"english\")\n",
    "    question = re.sub(r'\\n', '', question)\n",
    "    remove_punct = str.maketrans('', '', string.punctuation)\n",
    "    question = question.translate(remove_punct)\n",
    "    question = question.split()\n",
    "    question = [word for word in question if not word in stop_words]\n",
    "    question = nlp(' '.join(question))\n",
    "    lemma_words = [y.lemma_ for y in question]\n",
    "    return lemma_words"
   ]
  },
  {
   "cell_type": "code",
   "execution_count": null,
   "metadata": {},
   "outputs": [],
   "source": [
    "def cal_similarities(q1_embed,q2_embed):\n",
    "    cos_sim = 1-cosine(q1_embed,q2_embed)\n",
    "    man_sim = cityblock(q1_embed,q2_embed)\n",
    "    euc_sim = euclidean(q1_embed,q2_embed)\n",
    "    return cos_sim,man_sim,euc_sim"
   ]
  },
  {
   "cell_type": "code",
   "execution_count": null,
   "metadata": {},
   "outputs": [],
   "source": [
    "def gen_sbert_embedding(text):\n",
    "    vectors = sbert_model.encode(text)\n",
    "    return vectors"
   ]
  },
  {
   "cell_type": "code",
   "execution_count": null,
   "metadata": {},
   "outputs": [],
   "source": [
    "def gen_use_embedding(text):\n",
    "    embeddings = embed([text])\n",
    "    return embeddings[0]"
   ]
  },
  {
   "cell_type": "code",
   "execution_count": 137,
   "metadata": {},
   "outputs": [],
   "source": [
    "# sb_euc_scaler = pickle.load(open(\"sb_euc_scaler.sav\", 'rb'))\n",
    "# use_euc_scaler = pickle.load(open(\"use_euc_scaler.sav\", 'rb'))\n",
    "fuzzy_scaler = pickle.load(open(\"fuzzy_scaler.sav\", 'rb'))\n",
    "wr_scaler = pickle.load(open(\"wr_scaler.sav\", 'rb'))"
   ]
  },
  {
   "cell_type": "code",
   "execution_count": 78,
   "metadata": {},
   "outputs": [],
   "source": [
    "def pass_threshold(pred):\n",
    "    ret_pred = []\n",
    "    for p in pred:\n",
    "        if p>0.7:\n",
    "            ret_pred.append(1)\n",
    "        else:\n",
    "            ret_pred.append(0)\n",
    "    return ret_pred\n",
    "    "
   ]
  },
  {
   "cell_type": "code",
   "execution_count": 93,
   "metadata": {},
   "outputs": [],
   "source": [
    "model_1 = torch.load(\"mlp_model_1\")"
   ]
  },
  {
   "cell_type": "code",
   "execution_count": 94,
   "metadata": {},
   "outputs": [],
   "source": [
    "def is_similar(q1,q2):\n",
    "    q1 = q1.lower()\n",
    "    q2 = q2.lower()\n",
    "    q1_proc_words = preprocess(q1)\n",
    "    q2_proc_words = preprocess(q2)\n",
    "    print(q1_proc_words)\n",
    "    print(q2_proc_words)\n",
    "    \n",
    "    q1_sb_embed = gen_sbert_embedding(q1)\n",
    "    q2_sb_embed = gen_sbert_embedding(q2)\n",
    "    sb_cos_sim,sb_man_sim,sb_euc_sim = cal_similarities(q1_sb_embed,q2_sb_embed)\n",
    "#     sb_euc_sim = sb_euc_scaler.transform(np.array([sb_euc_sim]).reshape(-1,1))[0][0]\n",
    "    \n",
    "    q1_use_embed = gen_use_embedding(q1)\n",
    "    q2_use_embed = gen_use_embedding(q2)\n",
    "    use_cos_sim,use_man_sim,use_euc_sim = cal_similarities(q1_use_embed,q2_use_embed)\n",
    "#     use_euc_sim = use_euc_scaler.transform(np.array([use_euc_sim]).reshape(-1,1))[0][0]\n",
    "    \n",
    "    tot_count = len(q1_proc_words) + len(q2_proc_words)\n",
    "    common_count = (len(set(q1_proc_words).intersection(set(q2_proc_words))))\n",
    "    common_word_count_ratio = common_count/tot_count\n",
    "    common_word_count_ratio = wr_scaler.transform(np.array([common_word_count_ratio]).reshape(-1,1))[0][0]\n",
    "\n",
    "    sorted_q1 = ' '.join(sorted(q1_proc_words))\n",
    "    sorted_q2 = ' '.join(sorted(q2_proc_words))\n",
    "    sorted_fuzzy_ratio = fuzz.ratio(sorted_q1,sorted_q2)\n",
    "    sorted_fuzzy_ratio = fuzzy_scaler.transform(np.array([sorted_fuzzy_ratio/10]).reshape(-1,1))[0][0]\n",
    "    \n",
    "    data = pd.DataFrame([[sb_cos_sim,use_cos_sim,use_euc_sim,common_word_count_ratio,sorted_fuzzy_ratio]], columns=[\"sb_cos_sim\",\"use_cos_sim\",\"use_euc_sim\",\"common_word_count_ratio\",\"sorted_fuzzy_ratio\"])\n",
    "    data = data.to_numpy(dtype=\"float32\")\n",
    "    print(data)\n",
    "    \n",
    "    if len(q1)>0 and len(q2)>0 : \n",
    "        \n",
    "        test_predicted = model_1(torch.tensor(data,dtype=torch.float32))\n",
    "        print(test_predicted)\n",
    "        test_pred = pass_threshold(test_predicted.reshape(-1).detach().numpy())\n",
    "        print(test_pred)\n",
    "#         if test_pred==1:\n",
    "#             print(\"Both questions are similar\")\n",
    "#         else:\n",
    "#             print(\"They are different questions\")\n",
    "    else:\n",
    "        print(\"Try Again with a proper sentence\")\n"
   ]
  },
  {
   "cell_type": "code",
   "execution_count": 96,
   "metadata": {},
   "outputs": [
    {
     "name": "stdout",
     "output_type": "stream",
     "text": [
      "['how', 'handle', 'exception', 'java']\n",
      "['heapoverflow', 'exception', 'occur', 'python']\n",
      "[[0.682434   0.6176095  0.5334706  0.25       0.02371134]]\n",
      "tensor([[0.5960]], grad_fn=<SigmoidBackward0>)\n",
      "[0]\n"
     ]
    }
   ],
   "source": [
    "is_similar(\"how to handle exception in java\",\"heapoverflow exception occured in python\")"
   ]
  },
  {
   "cell_type": "code",
   "execution_count": null,
   "metadata": {},
   "outputs": [],
   "source": [
    "Question to use:\n",
    "\"how to use transformers models\",\"how to train hugging face transformers\" --1\n",
    "\"What is derivative of Sigmoid function\",\"how to differentiate sigmoid\" --1\n",
    "\"What is derivative of Sigmoid function\",\"how to differentiate tanh\" --0\n",
    "\"how to live a healty life\",\"where does heath ledger live\"  -- 0\n",
    "\"how to handle exception in java\",\"heapoverflow exception occured in java\" --1\n",
    "\"how to handle exception in java\",\"heapoverflow exception occured in python\" --0"
   ]
  },
  {
   "cell_type": "code",
   "execution_count": null,
   "metadata": {},
   "outputs": [],
   "source": []
  },
  {
   "cell_type": "code",
   "execution_count": null,
   "metadata": {},
   "outputs": [],
   "source": []
  },
  {
   "cell_type": "markdown",
   "metadata": {},
   "source": [
    "# Custom Train BERTOverflow:"
   ]
  },
  {
   "cell_type": "code",
   "execution_count": 405,
   "metadata": {},
   "outputs": [],
   "source": [
    "from torch.utils.data import DataLoader\n",
    "import math\n",
    "from sentence_transformers import LoggingHandler, util\n",
    "from sentence_transformers.cross_encoder import CrossEncoder\n",
    "from sentence_transformers.evaluation import BinaryClassificationEvaluator\n",
    "from sentence_transformers.readers import InputExample\n",
    "import logging\n",
    "from datetime import datetime\n",
    "import os\n",
    "import gzip\n",
    "import csv\n"
   ]
  },
  {
   "cell_type": "code",
   "execution_count": 395,
   "metadata": {
    "scrolled": true
   },
   "outputs": [
    {
     "data": {
      "text/html": [
       "<div>\n",
       "<style scoped>\n",
       "    .dataframe tbody tr th:only-of-type {\n",
       "        vertical-align: middle;\n",
       "    }\n",
       "\n",
       "    .dataframe tbody tr th {\n",
       "        vertical-align: top;\n",
       "    }\n",
       "\n",
       "    .dataframe thead th {\n",
       "        text-align: right;\n",
       "    }\n",
       "</style>\n",
       "<table border=\"1\" class=\"dataframe\">\n",
       "  <thead>\n",
       "    <tr style=\"text-align: right;\">\n",
       "      <th></th>\n",
       "      <th>question1</th>\n",
       "      <th>question2</th>\n",
       "      <th>is_duplicate</th>\n",
       "      <th>question1_cleaned</th>\n",
       "      <th>question2_cleaned</th>\n",
       "      <th>sb_cos_sim</th>\n",
       "      <th>sb_man_sim</th>\n",
       "      <th>sb_euc_sim</th>\n",
       "      <th>use_cos_sim</th>\n",
       "      <th>use_man_sim</th>\n",
       "      <th>use_euc_sim</th>\n",
       "      <th>common_word_count_ratio</th>\n",
       "      <th>sorted_fuzzy_ratio</th>\n",
       "    </tr>\n",
       "  </thead>\n",
       "  <tbody>\n",
       "    <tr>\n",
       "      <th>0</th>\n",
       "      <td>Custom UITableViewCell with round rect</td>\n",
       "      <td>IPV6 usage study</td>\n",
       "      <td>0</td>\n",
       "      <td>[custom, uitableviewcell, round, rect]</td>\n",
       "      <td>[ipv6, usage, study]</td>\n",
       "      <td>0.573133</td>\n",
       "      <td>0.030964</td>\n",
       "      <td>0.627948</td>\n",
       "      <td>0.035762</td>\n",
       "      <td>0.038205</td>\n",
       "      <td>0.418638</td>\n",
       "      <td>0.000000</td>\n",
       "      <td>12</td>\n",
       "    </tr>\n",
       "    <tr>\n",
       "      <th>1</th>\n",
       "      <td>Painless integration of Eclipse with Vim?</td>\n",
       "      <td>Unable to connect mysql from Sequel gem</td>\n",
       "      <td>0</td>\n",
       "      <td>[painless, integration, eclipse, vim]</td>\n",
       "      <td>[unable, connect, mysql, sequel, gem]</td>\n",
       "      <td>0.550999</td>\n",
       "      <td>0.030027</td>\n",
       "      <td>0.618608</td>\n",
       "      <td>0.163138</td>\n",
       "      <td>0.041300</td>\n",
       "      <td>0.435972</td>\n",
       "      <td>0.000000</td>\n",
       "      <td>32</td>\n",
       "    </tr>\n",
       "    <tr>\n",
       "      <th>2</th>\n",
       "      <td>Access custom Increment (\"yy\" &amp; 0000)</td>\n",
       "      <td>Create sequential ID value based on the year t...</td>\n",
       "      <td>1</td>\n",
       "      <td>[access, custom, increment, yy, 0000]</td>\n",
       "      <td>[create, sequential, i, d, value, base, year, ...</td>\n",
       "      <td>0.528018</td>\n",
       "      <td>0.029551</td>\n",
       "      <td>0.593704</td>\n",
       "      <td>0.305784</td>\n",
       "      <td>0.044596</td>\n",
       "      <td>0.459070</td>\n",
       "      <td>0.000000</td>\n",
       "      <td>30</td>\n",
       "    </tr>\n",
       "    <tr>\n",
       "      <th>3</th>\n",
       "      <td>Open source PDF renderer for .NET?</td>\n",
       "      <td>Python parsing bracketed blocks</td>\n",
       "      <td>0</td>\n",
       "      <td>[open, source, pdf, renderer, net]</td>\n",
       "      <td>[python, parse, bracket, block]</td>\n",
       "      <td>0.572499</td>\n",
       "      <td>0.030062</td>\n",
       "      <td>0.608731</td>\n",
       "      <td>0.092916</td>\n",
       "      <td>0.039092</td>\n",
       "      <td>0.426092</td>\n",
       "      <td>0.000000</td>\n",
       "      <td>30</td>\n",
       "    </tr>\n",
       "    <tr>\n",
       "      <th>4</th>\n",
       "      <td>Subset a dataframe in two dataframes by values...</td>\n",
       "      <td>Filter by ranges supplied by two vectors, with...</td>\n",
       "      <td>1</td>\n",
       "      <td>[subset, dataframe, two, dataframe, value, two...</td>\n",
       "      <td>[filter, range, supply, two, vector, without, ...</td>\n",
       "      <td>0.566993</td>\n",
       "      <td>0.031624</td>\n",
       "      <td>0.647182</td>\n",
       "      <td>0.392363</td>\n",
       "      <td>0.047987</td>\n",
       "      <td>0.475648</td>\n",
       "      <td>0.058824</td>\n",
       "      <td>37</td>\n",
       "    </tr>\n",
       "    <tr>\n",
       "      <th>...</th>\n",
       "      <td>...</td>\n",
       "      <td>...</td>\n",
       "      <td>...</td>\n",
       "      <td>...</td>\n",
       "      <td>...</td>\n",
       "      <td>...</td>\n",
       "      <td>...</td>\n",
       "      <td>...</td>\n",
       "      <td>...</td>\n",
       "      <td>...</td>\n",
       "      <td>...</td>\n",
       "      <td>...</td>\n",
       "      <td>...</td>\n",
       "    </tr>\n",
       "    <tr>\n",
       "      <th>99995</th>\n",
       "      <td>How can I reference the element that contains ...</td>\n",
       "      <td>python name a file same as a lib</td>\n",
       "      <td>0</td>\n",
       "      <td>[how, reference, element, contain, event, func...</td>\n",
       "      <td>[python, name, file, lib]</td>\n",
       "      <td>0.437883</td>\n",
       "      <td>0.026381</td>\n",
       "      <td>0.544613</td>\n",
       "      <td>0.233864</td>\n",
       "      <td>0.043188</td>\n",
       "      <td>0.446858</td>\n",
       "      <td>0.000000</td>\n",
       "      <td>12</td>\n",
       "    </tr>\n",
       "    <tr>\n",
       "      <th>99996</th>\n",
       "      <td>Change value of dataframe which based on in r</td>\n",
       "      <td>Replacing matrix elements indexed by another m...</td>\n",
       "      <td>1</td>\n",
       "      <td>[change, value, dataframe, which, base, r]</td>\n",
       "      <td>[replace, matrix, element, index, another, mat...</td>\n",
       "      <td>0.730463</td>\n",
       "      <td>0.037454</td>\n",
       "      <td>0.770306</td>\n",
       "      <td>0.410017</td>\n",
       "      <td>0.049500</td>\n",
       "      <td>0.479326</td>\n",
       "      <td>0.000000</td>\n",
       "      <td>33</td>\n",
       "    </tr>\n",
       "    <tr>\n",
       "      <th>99997</th>\n",
       "      <td>Deterministic handle allocation algorithm</td>\n",
       "      <td>Formatting doubles for output in C#</td>\n",
       "      <td>0</td>\n",
       "      <td>[deterministic, handle, allocation, algorithm]</td>\n",
       "      <td>[formatting, double, output, c]</td>\n",
       "      <td>0.603851</td>\n",
       "      <td>0.031812</td>\n",
       "      <td>0.651306</td>\n",
       "      <td>0.194946</td>\n",
       "      <td>0.041751</td>\n",
       "      <td>0.440742</td>\n",
       "      <td>0.000000</td>\n",
       "      <td>30</td>\n",
       "    </tr>\n",
       "    <tr>\n",
       "      <th>99998</th>\n",
       "      <td>Your thoughts on web design for 16:9 screens</td>\n",
       "      <td>Will Garbage Collected C be Faster Than C++?</td>\n",
       "      <td>0</td>\n",
       "      <td>[thought, web, design, 169, screen]</td>\n",
       "      <td>[garbage, collect, c, fast, c]</td>\n",
       "      <td>0.364814</td>\n",
       "      <td>0.025420</td>\n",
       "      <td>0.532797</td>\n",
       "      <td>0.049885</td>\n",
       "      <td>0.038451</td>\n",
       "      <td>0.420435</td>\n",
       "      <td>0.000000</td>\n",
       "      <td>23</td>\n",
       "    </tr>\n",
       "    <tr>\n",
       "      <th>99999</th>\n",
       "      <td>How to move sheet within Google Spreadsheeet u...</td>\n",
       "      <td>Anyway to change the sheet order?</td>\n",
       "      <td>1</td>\n",
       "      <td>[how, move, sheet, within, google, spreadsheee...</td>\n",
       "      <td>[anyway, change, sheet, order]</td>\n",
       "      <td>0.369259</td>\n",
       "      <td>0.024935</td>\n",
       "      <td>0.513351</td>\n",
       "      <td>0.316927</td>\n",
       "      <td>0.045396</td>\n",
       "      <td>0.461080</td>\n",
       "      <td>0.076923</td>\n",
       "      <td>35</td>\n",
       "    </tr>\n",
       "  </tbody>\n",
       "</table>\n",
       "<p>100000 rows × 13 columns</p>\n",
       "</div>"
      ],
      "text/plain": [
       "                                               question1  \\\n",
       "0                 Custom UITableViewCell with round rect   \n",
       "1              Painless integration of Eclipse with Vim?   \n",
       "2                  Access custom Increment (\"yy\" & 0000)   \n",
       "3                     Open source PDF renderer for .NET?   \n",
       "4      Subset a dataframe in two dataframes by values...   \n",
       "...                                                  ...   \n",
       "99995  How can I reference the element that contains ...   \n",
       "99996      Change value of dataframe which based on in r   \n",
       "99997          Deterministic handle allocation algorithm   \n",
       "99998       Your thoughts on web design for 16:9 screens   \n",
       "99999  How to move sheet within Google Spreadsheeet u...   \n",
       "\n",
       "                                               question2  is_duplicate  \\\n",
       "0                                       IPV6 usage study             0   \n",
       "1                Unable to connect mysql from Sequel gem             0   \n",
       "2      Create sequential ID value based on the year t...             1   \n",
       "3                        Python parsing bracketed blocks             0   \n",
       "4      Filter by ranges supplied by two vectors, with...             1   \n",
       "...                                                  ...           ...   \n",
       "99995                   python name a file same as a lib             0   \n",
       "99996  Replacing matrix elements indexed by another m...             1   \n",
       "99997                Formatting doubles for output in C#             0   \n",
       "99998       Will Garbage Collected C be Faster Than C++?             0   \n",
       "99999                  Anyway to change the sheet order?             1   \n",
       "\n",
       "                                       question1_cleaned  \\\n",
       "0                 [custom, uitableviewcell, round, rect]   \n",
       "1                  [painless, integration, eclipse, vim]   \n",
       "2                  [access, custom, increment, yy, 0000]   \n",
       "3                     [open, source, pdf, renderer, net]   \n",
       "4      [subset, dataframe, two, dataframe, value, two...   \n",
       "...                                                  ...   \n",
       "99995  [how, reference, element, contain, event, func...   \n",
       "99996         [change, value, dataframe, which, base, r]   \n",
       "99997     [deterministic, handle, allocation, algorithm]   \n",
       "99998                [thought, web, design, 169, screen]   \n",
       "99999  [how, move, sheet, within, google, spreadsheee...   \n",
       "\n",
       "                                       question2_cleaned  sb_cos_sim  \\\n",
       "0                                   [ipv6, usage, study]    0.573133   \n",
       "1                  [unable, connect, mysql, sequel, gem]    0.550999   \n",
       "2      [create, sequential, i, d, value, base, year, ...    0.528018   \n",
       "3                        [python, parse, bracket, block]    0.572499   \n",
       "4      [filter, range, supply, two, vector, without, ...    0.566993   \n",
       "...                                                  ...         ...   \n",
       "99995                          [python, name, file, lib]    0.437883   \n",
       "99996  [replace, matrix, element, index, another, mat...    0.730463   \n",
       "99997                    [formatting, double, output, c]    0.603851   \n",
       "99998                     [garbage, collect, c, fast, c]    0.364814   \n",
       "99999                     [anyway, change, sheet, order]    0.369259   \n",
       "\n",
       "       sb_man_sim  sb_euc_sim  use_cos_sim  use_man_sim  use_euc_sim  \\\n",
       "0        0.030964    0.627948     0.035762     0.038205     0.418638   \n",
       "1        0.030027    0.618608     0.163138     0.041300     0.435972   \n",
       "2        0.029551    0.593704     0.305784     0.044596     0.459070   \n",
       "3        0.030062    0.608731     0.092916     0.039092     0.426092   \n",
       "4        0.031624    0.647182     0.392363     0.047987     0.475648   \n",
       "...           ...         ...          ...          ...          ...   \n",
       "99995    0.026381    0.544613     0.233864     0.043188     0.446858   \n",
       "99996    0.037454    0.770306     0.410017     0.049500     0.479326   \n",
       "99997    0.031812    0.651306     0.194946     0.041751     0.440742   \n",
       "99998    0.025420    0.532797     0.049885     0.038451     0.420435   \n",
       "99999    0.024935    0.513351     0.316927     0.045396     0.461080   \n",
       "\n",
       "       common_word_count_ratio  sorted_fuzzy_ratio  \n",
       "0                     0.000000                  12  \n",
       "1                     0.000000                  32  \n",
       "2                     0.000000                  30  \n",
       "3                     0.000000                  30  \n",
       "4                     0.058824                  37  \n",
       "...                        ...                 ...  \n",
       "99995                 0.000000                  12  \n",
       "99996                 0.000000                  33  \n",
       "99997                 0.000000                  30  \n",
       "99998                 0.000000                  23  \n",
       "99999                 0.076923                  35  \n",
       "\n",
       "[100000 rows x 13 columns]"
      ]
     },
     "execution_count": 395,
     "metadata": {},
     "output_type": "execute_result"
    }
   ],
   "source": [
    "sof_concat_df"
   ]
  },
  {
   "cell_type": "code",
   "execution_count": 396,
   "metadata": {},
   "outputs": [],
   "source": [
    "from sklearn.model_selection import train_test_split\n",
    "train_qs, test_qs = train_test_split(sof_concat_df, test_size=0.2, random_state=42)"
   ]
  },
  {
   "cell_type": "code",
   "execution_count": 399,
   "metadata": {},
   "outputs": [
    {
     "name": "stderr",
     "output_type": "stream",
     "text": [
      "80000it [00:00, 167754.97it/s]\n"
     ]
    }
   ],
   "source": [
    "train_samples = []\n",
    "for q1,q2,label in tqdm(zip(list(train_qs[\"question1\"]),list(train_qs[\"question2\"]),list(train_qs[\"is_duplicate\"]))):\n",
    "    train_samples.append(InputExample(texts=[q1,q2],label=label))"
   ]
  },
  {
   "cell_type": "code",
   "execution_count": 400,
   "metadata": {},
   "outputs": [
    {
     "name": "stderr",
     "output_type": "stream",
     "text": [
      "20000it [00:00, 63047.69it/s]\n"
     ]
    }
   ],
   "source": [
    "test_samples = []\n",
    "for q1,q2,label in tqdm(zip(list(test_qs[\"question1\"]),list(test_qs[\"question2\"]),list(test_qs[\"is_duplicate\"]))):\n",
    "    test_samples.append(InputExample(texts=[q1,q2], label=label))"
   ]
  },
  {
   "cell_type": "code",
   "execution_count": 418,
   "metadata": {},
   "outputs": [],
   "source": [
    "train_batch_size = 100\n",
    "num_epochs = 4"
   ]
  },
  {
   "cell_type": "code",
   "execution_count": 402,
   "metadata": {},
   "outputs": [
    {
     "name": "stderr",
     "output_type": "stream",
     "text": [
      "Some weights of BertForSequenceClassification were not initialized from the model checkpoint at jeniya/BERTOverflow and are newly initialized: ['classifier.bias', 'classifier.weight']\n",
      "You should probably TRAIN this model on a down-stream task to be able to use it for predictions and inference.\n"
     ]
    }
   ],
   "source": [
    "bert_overflow_model = CrossEncoder(\"jeniya/BERTOverflow\", num_labels=2)"
   ]
  },
  {
   "cell_type": "code",
   "execution_count": 407,
   "metadata": {},
   "outputs": [],
   "source": [
    "evaluator = BinaryClassificationEvaluator.from_input_examples(test_samples)"
   ]
  },
  {
   "cell_type": "code",
   "execution_count": 419,
   "metadata": {},
   "outputs": [],
   "source": [
    "train_dataloader = DataLoader(train_samples, shuffle=True, batch_size=train_batch_size)"
   ]
  },
  {
   "cell_type": "code",
   "execution_count": 409,
   "metadata": {},
   "outputs": [],
   "source": [
    "warmup_steps = math.ceil(len(train_dataloader) * num_epochs * 0.1)"
   ]
  },
  {
   "cell_type": "code",
   "execution_count": null,
   "metadata": {},
   "outputs": [
    {
     "name": "stderr",
     "output_type": "stream",
     "text": [
      "Epoch:   0%|                                                                                     | 0/4 [00:00<?, ?it/s]\n",
      "Iteration:   0%|                                                                               | 0/800 [00:00<?, ?it/s]\u001b[A"
     ]
    }
   ],
   "source": [
    "bert_overflow_model.fit(train_dataloader=train_dataloader,epochs=num_epochs,warmup_steps=warmup_steps, output_path=\"bert_overflow_model\")"
   ]
  },
  {
   "cell_type": "code",
   "execution_count": null,
   "metadata": {},
   "outputs": [],
   "source": []
  }
 ],
 "metadata": {
  "kernelspec": {
   "display_name": "venv_tf",
   "language": "python",
   "name": "venv_tf"
  },
  "language_info": {
   "codemirror_mode": {
    "name": "ipython",
    "version": 3
   },
   "file_extension": ".py",
   "mimetype": "text/x-python",
   "name": "python",
   "nbconvert_exporter": "python",
   "pygments_lexer": "ipython3",
   "version": "3.7.8"
  }
 },
 "nbformat": 4,
 "nbformat_minor": 4
}
